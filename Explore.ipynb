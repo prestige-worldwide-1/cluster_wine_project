{
 "cells": [
  {
   "cell_type": "markdown",
   "id": "04641874",
   "metadata": {},
   "source": [
    "# Explore\n",
    "\n",
    "- `random_state`=123\n",
    "\n",
    "Plan\n",
    "- [x] Split data\n",
    "- [x] Get Univariate Insights\n",
    "- [ ] Get Bivariate Insights to target (quality)\n",
    "    - scatterplots with quality on the y\n",
    "    - correlations + heatmap\n",
    "    - barplot, swarmplot, and/or boxplot with quality on y and color on x"
   ]
  },
  {
   "cell_type": "code",
   "execution_count": 7,
   "id": "4e3ce583",
   "metadata": {},
   "outputs": [],
   "source": [
    "import pandas as pd\n",
    "import matplotlib.pyplot as plt\n",
    "from matplotlib.ticker import FuncFormatter\n",
    "from matplotlib import patches\n",
    "\n",
    "%config InlineBackend.figure_format = 'retina'\n",
    "import seaborn as sns\n",
    "\n",
    "import sys\n",
    "import os\n",
    "home_directory_path = os.path.expanduser('~')\n",
    "sys.path.append(home_directory_path +'/utils')\n",
    "\n",
    "from wrangle import split_data\n",
    "\n",
    "from sklearn.preprocessing import MinMaxScaler\n",
    "from scipy.stats import pearsonr\n",
    "\n",
    "from sklearn.cluster import KMeans\n",
    "\n",
    "from itertools import combinations\n",
    "import wrangle as w"
   ]
  },
  {
   "cell_type": "code",
   "execution_count": 4,
   "id": "652344d0",
   "metadata": {},
   "outputs": [],
   "source": [
    "import warnings\n",
    "warnings.filterwarnings(\"ignore\")"
   ]
  },
  {
   "cell_type": "markdown",
   "id": "2e00c19f",
   "metadata": {},
   "source": [
    "Acquire and split data"
   ]
  },
  {
   "cell_type": "code",
   "execution_count": 8,
   "id": "8364a8ec",
   "metadata": {},
   "outputs": [],
   "source": [
    "df = pd.read_csv('wine_data.csv') \n",
    "\n",
    "train, validate, test = split_data(df, validate_size=.15, test_size=.15, random_state=123)"
   ]
  },
  {
   "cell_type": "markdown",
   "id": "b86186e7",
   "metadata": {},
   "source": [
    "**Univariate Analysis**\n",
    "\n",
    "Notes:\n",
    "- `color`: 75/25, white/red whine\n",
    "- `quality`: quality is approximately normal. scores of 3 and 9 are rare. 92% have scores 5-7. 44% have a score of 6"
   ]
  },
  {
   "cell_type": "code",
   "execution_count": null,
   "id": "9243fb85",
   "metadata": {
    "scrolled": true
   },
   "outputs": [],
   "source": [
    "e.explore_univariate_categorical_cols(train)"
   ]
  },
  {
   "cell_type": "code",
   "execution_count": null,
   "id": "d3a8b2b2",
   "metadata": {},
   "outputs": [],
   "source": [
    "e.explore_univariate_continuous_cols(train)"
   ]
  },
  {
   "cell_type": "markdown",
   "id": "f5d1711b",
   "metadata": {},
   "source": [
    "**Bivariate Analysis**\n",
    "\n",
    "- color of the wine seems independent of quality\n",
    "- Features that drive quality: $r > .2$\n",
    "    - `['alcohol', 'density', 'volatile acidity', 'chlorides' ]`\n",
    "- Features that don't drive quality: $r < .1$\n",
    "    - `['color', 'fixed acidity', 'citric acid', 'residual sugar',\n",
    "        'free sulfur dioxide', 'total sulfur dioxide', 'pH', 'sulphates']`, "
   ]
  },
  {
   "cell_type": "code",
   "execution_count": null,
   "id": "28c252b9",
   "metadata": {
    "scrolled": true
   },
   "outputs": [],
   "source": [
    "e.explore_bivariate_cat_to_cont_target(train, target='quality',\n",
    "                                       cat_cols=['red'])"
   ]
  },
  {
   "cell_type": "code",
   "execution_count": null,
   "id": "7632391d",
   "metadata": {
    "scrolled": false
   },
   "outputs": [],
   "source": [
    "# e.explore_bivariate_cont_to_cont_target(train, target='quality',\n",
    "#                                         cont_cols=e.get_cat_and_cont_cols(train)[1] + ['quality'])"
   ]
  },
  {
   "cell_type": "code",
   "execution_count": null,
   "id": "e7f1c0ad",
   "metadata": {},
   "outputs": [],
   "source": []
  },
  {
   "cell_type": "code",
   "execution_count": null,
   "id": "ae66083d",
   "metadata": {},
   "outputs": [],
   "source": [
    "\n",
    "\n",
    "#.to_frame()[1:]"
   ]
  },
  {
   "cell_type": "code",
   "execution_count": null,
   "id": "d2ad754e",
   "metadata": {},
   "outputs": [],
   "source": [
    "def plot_key_features():\n",
    "    df = train\n",
    "    target='quality'\n",
    "\n",
    "    plt.figure(figsize=(1.5,5))\n",
    "    ax = sns.heatmap(df[abs(df.corr()[target]).sort_values(ascending=False).index].corr()[target].to_frame()[1:],\n",
    "                        annot=True, cmap='RdYlGn', vmin=-1, vmax=1)\n",
    "    cbar = ax.collections[0].colorbar\n",
    "    cbar.ax.tick_params(right=False, labelsize=8) \n",
    "    cbar.set_ticks([-1, -.5, 0, .5, 1])\n",
    "    plt.tick_params(axis='both', left=False, bottom=False)\n",
    "\n",
    "    rectangle = patches.Rectangle((0, 0), 1, 4, linewidth=1.5, edgecolor='#C40000', facecolor='none')\n",
    "    ax.add_patch(rectangle)\n",
    "\n",
    "    plt.title('4 Strongest Drivers of Quality')\n",
    "    plt.show()"
   ]
  },
  {
   "cell_type": "code",
   "execution_count": null,
   "id": "a2a4f416",
   "metadata": {
    "scrolled": false
   },
   "outputs": [],
   "source": [
    "plot_key_features()"
   ]
  },
  {
   "cell_type": "code",
   "execution_count": null,
   "id": "ee4688f7",
   "metadata": {},
   "outputs": [],
   "source": [
    "def plot_alcohol_by_quality():\n",
    "    fig, axes = plt.subplots(2, 1, figsize=(6,6))\n",
    "    sns.barplot(data=train, x='quality', y='alcohol', color='green',\n",
    "                errorbar=None, ax=axes[0])\n",
    "\n",
    "    for p in axes[0].patches:\n",
    "        axes[0].annotate(f'{str(round(p.get_height(), 1))}%', \n",
    "                    (p.get_x() + p.get_width() / 2, p.get_height()),\n",
    "                    ha='center', va='bottom', fontsize=8)\n",
    "\n",
    "    axes[0].set_xlabel('')\n",
    "\n",
    "    sns.stripplot(data=train, x='quality', y='alcohol', size=1, \n",
    "                  color='green', jitter=.2, ax=axes[1])\n",
    "\n",
    "    axes[1].set_xlabel('Quality', fontsize=10, labelpad=5)\n",
    "\n",
    "    plt.suptitle('Higher Quality Wines Have More Alcohol')\n",
    "\n",
    "    for ax in axes:\n",
    "        ax.set_ylabel('Alcohol', rotation=0, fontsize=10, labelpad=20)\n",
    "        ax.tick_params(axis='both', left=False, bottom=False, labelsize=8)\n",
    "        ax.yaxis.set_major_formatter(FuncFormatter(lambda x, pos: f'{round(x)}%'))\n",
    "\n",
    "    sns.despine()\n",
    "    plt.tight_layout()\n",
    "    plt.show()"
   ]
  },
  {
   "cell_type": "code",
   "execution_count": null,
   "id": "0bf29939",
   "metadata": {},
   "outputs": [],
   "source": [
    "plot_alcohol_by_quality()"
   ]
  },
  {
   "cell_type": "code",
   "execution_count": 14,
   "id": "3dfecd05",
   "metadata": {},
   "outputs": [
    {
     "name": "stdout",
     "output_type": "stream",
     "text": [
      "0.4837133455918712 1.0089565593623517e-217\n",
      "-0.353586651013573 4.192528826581278e-110\n",
      "-0.262858663423861 6.736031363518946e-60\n",
      "-0.20710153205137027 2.327569955302168e-37\n"
     ]
    }
   ],
   "source": [
    "for col in ['alcohol', 'density', 'volatile acidity', 'chlorides']:\n",
    "    r_stat, p_val = pearsonr(train['quality'], train[col])\n",
    "    print(r_stat, p_val)"
   ]
  },
  {
   "cell_type": "markdown",
   "id": "a0014aea",
   "metadata": {},
   "source": [
    "**Clustering**\n",
    "\n",
    "Find clusters/groups from strong features"
   ]
  },
  {
   "cell_type": "code",
   "execution_count": null,
   "id": "c9e2ccd3",
   "metadata": {},
   "outputs": [],
   "source": [
    "scaler = MinMaxScaler()"
   ]
  },
  {
   "cell_type": "markdown",
   "id": "fd120699",
   "metadata": {},
   "source": [
    "Scale Training data"
   ]
  },
  {
   "cell_type": "code",
   "execution_count": null,
   "id": "aa52a109",
   "metadata": {},
   "outputs": [],
   "source": [
    "pd.DataFrame(data=scaler.fit_transform(train.drop(columns=['quality'])),\n",
    "             columns=train.drop(columns=['quality']).columns)"
   ]
  },
  {
   "cell_type": "code",
   "execution_count": null,
   "id": "f6d2c01c",
   "metadata": {},
   "outputs": [],
   "source": [
    "train_sc = pd.concat([pd.DataFrame(data=scaler.fit_transform(train.drop(columns=['quality'])),\n",
    "                                   columns=train.drop(columns=['quality']).columns),\n",
    "                      train[['quality']].reset_index().iloc[:,1]],\n",
    "                      axis=1)"
   ]
  },
  {
   "cell_type": "code",
   "execution_count": null,
   "id": "8291ec6b",
   "metadata": {},
   "outputs": [],
   "source": [
    "train_sc.head()"
   ]
  },
  {
   "cell_type": "code",
   "execution_count": null,
   "id": "6b931e2f",
   "metadata": {},
   "outputs": [],
   "source": [
    "validate_sc = pd.concat([pd.DataFrame(data=scaler.transform(validate.drop(columns=['quality'])),\n",
    "                                   columns=validate.drop(columns=['quality']).columns),\n",
    "                         validate[['quality']].reset_index().iloc[:,1]],\n",
    "                         axis=1)"
   ]
  },
  {
   "cell_type": "code",
   "execution_count": null,
   "id": "d00c2a9c",
   "metadata": {},
   "outputs": [],
   "source": [
    "validate_sc.head()"
   ]
  },
  {
   "cell_type": "code",
   "execution_count": null,
   "id": "01ea95fd",
   "metadata": {},
   "outputs": [],
   "source": [
    "test_sc = pd.concat([pd.DataFrame(data=scaler.transform(test.drop(columns=['quality'])),\n",
    "                                   columns=test.drop(columns=['quality']).columns),\n",
    "                     test[['quality']].reset_index().iloc[:,1]],\n",
    "                     axis=1)"
   ]
  },
  {
   "cell_type": "code",
   "execution_count": null,
   "id": "a1de3d48",
   "metadata": {},
   "outputs": [],
   "source": [
    "test_sc.head()"
   ]
  },
  {
   "cell_type": "code",
   "execution_count": null,
   "id": "b657c734",
   "metadata": {},
   "outputs": [],
   "source": [
    "# plt.figure(figsize=(40,20))\n",
    "\n",
    "# sns.pairplot(data=train_sc, corner=True,\n",
    "#              hue='quality', plot_kws={'s': 3, 'alpha': .1})"
   ]
  },
  {
   "cell_type": "markdown",
   "id": "d9068870",
   "metadata": {},
   "source": [
    "**Cluster**\n",
    "\n",
    "- `['alcohol', 'volatile acidity', 'chlorides']`\n",
    "- `[‘alcohol', ‘density’, 'citric acid’]`\n",
    "- `[‘alcohol', ‘sugar, ‘ph’]`\n",
    "- `['Total sulfur dioxide', 'density']`"
   ]
  },
  {
   "cell_type": "markdown",
   "id": "9f099966",
   "metadata": {},
   "source": [
    "Cluster on combination of 2 features"
   ]
  },
  {
   "cell_type": "code",
   "execution_count": null,
   "id": "71593515",
   "metadata": {},
   "outputs": [],
   "source": [
    "len(list(combinations(train_sc.columns, 2)))"
   ]
  },
  {
   "cell_type": "markdown",
   "id": "4ba02eb8",
   "metadata": {},
   "source": [
    "How well can we cluster off 2 features?\n",
    "- lower inertia means we have denser clusters\n",
    "- **Note:** this doesn't tell us how useful these clusters will be at predicting quality."
   ]
  },
  {
   "cell_type": "code",
   "execution_count": null,
   "id": "f8e89d69",
   "metadata": {
    "scrolled": true
   },
   "outputs": [],
   "source": [
    "# for combo in [list(tup) for tup in list(combinations(train_sc.columns, 2))]:\n",
    "#     print('-'*20)\n",
    "#     print(combo)\n",
    "#     plt.figure(figsize=(4, 3))\n",
    "#     pd.Series({k: KMeans(k).fit(train_sc[combo]).inertia_ for k in range(2, 12)}).plot(marker='x')\n",
    "#     plt.xticks(range(2, 12))\n",
    "#     plt.xlabel('k')\n",
    "#     plt.ylabel('inertia')\n",
    "#     plt.title('Change in inertia as k increases')\n",
    "#     plt.show()"
   ]
  },
  {
   "cell_type": "markdown",
   "id": "df1e0540",
   "metadata": {},
   "source": [
    "Cluster on combination of 3 features"
   ]
  },
  {
   "cell_type": "code",
   "execution_count": null,
   "id": "5ba0df7a",
   "metadata": {},
   "outputs": [],
   "source": [
    "len(list(combinations(train_sc.columns, 3)))"
   ]
  },
  {
   "cell_type": "markdown",
   "id": "6d0b7e99",
   "metadata": {},
   "source": [
    "How well can we cluster off 3 features?\n",
    "- lower inertia means we have denser clusters\n",
    "- **Note:** this doesn't tell us how useful these clusters will be at predicting quality."
   ]
  },
  {
   "cell_type": "code",
   "execution_count": null,
   "id": "0c07bc69",
   "metadata": {
    "scrolled": true
   },
   "outputs": [],
   "source": [
    "# for combo in [list(tup) for tup in list(combinations(train_sc.columns, 3))]:\n",
    "#     print('-'*20)\n",
    "#     print(combo)\n",
    "#     plt.figure(figsize=(4, 3))\n",
    "#     pd.Series({k: KMeans(k).fit(train_sc[combo]).inertia_ for k in range(2, 12)}).plot(marker='x')\n",
    "#     plt.xticks(range(2, 12))\n",
    "#     plt.xlabel('k')\n",
    "#     plt.ylabel('inertia')\n",
    "#     plt.title('Change in inertia as k increases')\n",
    "#     plt.show()"
   ]
  },
  {
   "cell_type": "markdown",
   "id": "f8c65fe1",
   "metadata": {},
   "source": [
    "Cluster group 1:\n",
    "\n",
    "- 4 clusters off `['fixed acidity', 'chlorides', 'alcohol']`"
   ]
  },
  {
   "cell_type": "code",
   "execution_count": null,
   "id": "100a28e4",
   "metadata": {},
   "outputs": [],
   "source": [
    "feats1 = ['fixed acidity', 'chlorides', 'alcohol']\n",
    "\n",
    "kmeans1 = KMeans(n_clusters=4, random_state=123).fit(train_sc[feats1])\n",
    "\n",
    "train['clusters_1'] = kmeans1.predict(train_sc[feats1])\n",
    "validate['clusters_1'] = kmeans1.predict(validate_sc[feats1])\n",
    "test['clusters_1'] = kmeans1.predict(test_sc[feats1])"
   ]
  },
  {
   "cell_type": "markdown",
   "id": "13005252",
   "metadata": {},
   "source": [
    "Cluster group 2:\n",
    "\n",
    "- 4 clusters off `['fixed acidity', 'alcohol']`"
   ]
  },
  {
   "cell_type": "code",
   "execution_count": null,
   "id": "88c8a826",
   "metadata": {},
   "outputs": [],
   "source": [
    "feats2 = ['fixed acidity', 'alcohol']\n",
    "\n",
    "kmeans2 = KMeans(n_clusters=4, random_state=123).fit(train_sc[feats2])\n",
    "\n",
    "train['clusters_2'] = kmeans2.predict(train_sc[feats2])\n",
    "validate['clusters_2'] = kmeans2.predict(validate_sc[feats2])\n",
    "test['clusters_2'] = kmeans2.predict(test_sc[feats2])"
   ]
  },
  {
   "cell_type": "markdown",
   "id": "2b9d6bdb",
   "metadata": {},
   "source": [
    "Cluster group 3:\n",
    "\n",
    "- 4 clusters off `['free sulfur dioxide', 'residual sugar', 'alcohol']`"
   ]
  },
  {
   "cell_type": "code",
   "execution_count": null,
   "id": "eceee193",
   "metadata": {},
   "outputs": [],
   "source": [
    "feats3 = ['free sulfur dioxide', 'residual sugar', 'alcohol']\n",
    "\n",
    "kmeans3 = KMeans(n_clusters=4, random_state=123).fit(train_sc[feats3])\n",
    "\n",
    "train['clusters_3'] = kmeans3.predict(train_sc[feats3])\n",
    "validate['clusters_3'] = kmeans3.predict(validate_sc[feats3])\n",
    "test['clusters_3'] = kmeans3.predict(test_sc[feats3])"
   ]
  },
  {
   "cell_type": "markdown",
   "id": "ed20da54",
   "metadata": {},
   "source": [
    "Explore Clusters\n",
    "\n",
    "Cluster 3 in the first group of clusters yields much higher quality."
   ]
  },
  {
   "cell_type": "code",
   "execution_count": null,
   "id": "f9915f47",
   "metadata": {
    "scrolled": true
   },
   "outputs": [],
   "source": [
    "train.groupby('clusters_1')['quality'].mean()"
   ]
  },
  {
   "cell_type": "markdown",
   "id": "1de732ae",
   "metadata": {},
   "source": [
    "Cluster 0 in the second group of clusters yields much higher quality."
   ]
  },
  {
   "cell_type": "code",
   "execution_count": null,
   "id": "258e56e0",
   "metadata": {},
   "outputs": [],
   "source": []
  },
  {
   "cell_type": "code",
   "execution_count": null,
   "id": "fa4ecc04",
   "metadata": {},
   "outputs": [],
   "source": [
    "train.groupby('clusters_2')['quality'].mean()"
   ]
  },
  {
   "cell_type": "markdown",
   "id": "3cc9b621",
   "metadata": {},
   "source": [
    "Cluster 2 in the third group of clusters yields much higher quality."
   ]
  },
  {
   "cell_type": "code",
   "execution_count": null,
   "id": "84b917e4",
   "metadata": {},
   "outputs": [],
   "source": [
    "train.groupby('clusters_3')['quality'].mean()"
   ]
  },
  {
   "cell_type": "code",
   "execution_count": null,
   "id": "da1e1fa4",
   "metadata": {},
   "outputs": [],
   "source": [
    "train['quality'].mean()"
   ]
  },
  {
   "cell_type": "markdown",
   "id": "c1d7b436",
   "metadata": {},
   "source": [
    "Save new cluster features onto the original data"
   ]
  },
  {
   "cell_type": "code",
   "execution_count": null,
   "id": "0ed4df06",
   "metadata": {},
   "outputs": [],
   "source": [
    "df = pd.concat([train, validate, test]).sort_index()\n",
    "df.head()"
   ]
  },
  {
   "cell_type": "code",
   "execution_count": null,
   "id": "28f8b09a",
   "metadata": {},
   "outputs": [],
   "source": [
    "df.to_csv('wine_data_model.csv', index=False)"
   ]
  }
 ],
 "metadata": {
  "kernelspec": {
   "display_name": "Python 3 (ipykernel)",
   "language": "python",
   "name": "python3"
  },
  "language_info": {
   "codemirror_mode": {
    "name": "ipython",
    "version": 3
   },
   "file_extension": ".py",
   "mimetype": "text/x-python",
   "name": "python",
   "nbconvert_exporter": "python",
   "pygments_lexer": "ipython3",
   "version": "3.11.3"
  },
  "varInspector": {
   "cols": {
    "lenName": 16,
    "lenType": 16,
    "lenVar": 40
   },
   "kernels_config": {
    "python": {
     "delete_cmd_postfix": "",
     "delete_cmd_prefix": "del ",
     "library": "var_list.py",
     "varRefreshCmd": "print(var_dic_list())"
    },
    "r": {
     "delete_cmd_postfix": ") ",
     "delete_cmd_prefix": "rm(",
     "library": "var_list.r",
     "varRefreshCmd": "cat(var_dic_list()) "
    }
   },
   "types_to_exclude": [
    "module",
    "function",
    "builtin_function_or_method",
    "instance",
    "_Feature"
   ],
   "window_display": false
  }
 },
 "nbformat": 4,
 "nbformat_minor": 5
}
