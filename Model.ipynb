{
 "cells": [
  {
   "cell_type": "markdown",
   "id": "f18c3760",
   "metadata": {},
   "source": [
    "# Model\n",
    "\n",
    "Plan:\n",
    "\n",
    "- Develop a model to predict quality\n",
    "- Use drivers identified in explore to build predictive regression models\n",
    "- Create and run a baseline model with sklearn's `DummyRegressor` to compare our results to\n",
    "- Create and run `Linear Regression`, `LassoLars`, and Polynomial regression models\n",
    "- Use the insights from the highest-performing model (with highest test RMSE) to confirm our initial hypotheses and insights on the features that are the biggest drivers of property value"
   ]
  },
  {
   "cell_type": "code",
   "execution_count": 11,
   "id": "a4d0d7c3",
   "metadata": {},
   "outputs": [],
   "source": [
    "import pandas as pd\n",
    "import numpy as np\n",
    "\n",
    "from sklearn.preprocessing import PolynomialFeatures\n",
    "\n",
    "from sklearn.dummy import DummyRegressor\n",
    "from sklearn.linear_model import LinearRegression, LassoLars\n",
    "\n",
    "from sklearn.metrics import mean_squared_error, r2_score\n",
    "\n",
    "from sklearn.preprocessing import MinMaxScaler\n",
    "\n",
    "from wrangle import split_data\n"
   ]
  },
  {
   "cell_type": "markdown",
   "id": "b3cb6917",
   "metadata": {},
   "source": [
    "## Preprocessing before Clustering\n",
    "\n",
    "Features: `['alcohol', 'volatile acidity', 'chlorides']`\n",
    "\n",
    "Encode Clusters\n",
    "\n",
    "Scale features:\n",
    "- MinMax\n",
    "\n",
    "Before scaling, split data"
   ]
  },
  {
   "cell_type": "code",
   "execution_count": 12,
   "id": "07e783f5",
   "metadata": {
    "scrolled": true
   },
   "outputs": [
    {
     "data": {
      "text/html": [
       "<div>\n",
       "<style scoped>\n",
       "    .dataframe tbody tr th:only-of-type {\n",
       "        vertical-align: middle;\n",
       "    }\n",
       "\n",
       "    .dataframe tbody tr th {\n",
       "        vertical-align: top;\n",
       "    }\n",
       "\n",
       "    .dataframe thead th {\n",
       "        text-align: right;\n",
       "    }\n",
       "</style>\n",
       "<table border=\"1\" class=\"dataframe\">\n",
       "  <thead>\n",
       "    <tr style=\"text-align: right;\">\n",
       "      <th></th>\n",
       "      <th>fixed acidity</th>\n",
       "      <th>volatile acidity</th>\n",
       "      <th>citric acid</th>\n",
       "      <th>residual sugar</th>\n",
       "      <th>chlorides</th>\n",
       "      <th>free sulfur dioxide</th>\n",
       "      <th>total sulfur dioxide</th>\n",
       "      <th>density</th>\n",
       "      <th>pH</th>\n",
       "      <th>sulphates</th>\n",
       "      <th>alcohol</th>\n",
       "      <th>quality</th>\n",
       "      <th>red</th>\n",
       "      <th>clusters_1</th>\n",
       "      <th>clusters_2</th>\n",
       "      <th>clusters_3</th>\n",
       "    </tr>\n",
       "  </thead>\n",
       "  <tbody>\n",
       "    <tr>\n",
       "      <th>0</th>\n",
       "      <td>7.4</td>\n",
       "      <td>0.70</td>\n",
       "      <td>0.00</td>\n",
       "      <td>1.9</td>\n",
       "      <td>0.076</td>\n",
       "      <td>11.0</td>\n",
       "      <td>34.0</td>\n",
       "      <td>0.9978</td>\n",
       "      <td>3.51</td>\n",
       "      <td>0.56</td>\n",
       "      <td>9.4</td>\n",
       "      <td>5</td>\n",
       "      <td>1</td>\n",
       "      <td>0</td>\n",
       "      <td>1</td>\n",
       "      <td>3</td>\n",
       "    </tr>\n",
       "    <tr>\n",
       "      <th>1</th>\n",
       "      <td>7.8</td>\n",
       "      <td>0.88</td>\n",
       "      <td>0.00</td>\n",
       "      <td>2.6</td>\n",
       "      <td>0.098</td>\n",
       "      <td>25.0</td>\n",
       "      <td>67.0</td>\n",
       "      <td>0.9968</td>\n",
       "      <td>3.20</td>\n",
       "      <td>0.68</td>\n",
       "      <td>9.8</td>\n",
       "      <td>5</td>\n",
       "      <td>1</td>\n",
       "      <td>0</td>\n",
       "      <td>1</td>\n",
       "      <td>3</td>\n",
       "    </tr>\n",
       "    <tr>\n",
       "      <th>2</th>\n",
       "      <td>7.8</td>\n",
       "      <td>0.76</td>\n",
       "      <td>0.04</td>\n",
       "      <td>2.3</td>\n",
       "      <td>0.092</td>\n",
       "      <td>15.0</td>\n",
       "      <td>54.0</td>\n",
       "      <td>0.9970</td>\n",
       "      <td>3.26</td>\n",
       "      <td>0.65</td>\n",
       "      <td>9.8</td>\n",
       "      <td>5</td>\n",
       "      <td>1</td>\n",
       "      <td>0</td>\n",
       "      <td>1</td>\n",
       "      <td>3</td>\n",
       "    </tr>\n",
       "    <tr>\n",
       "      <th>3</th>\n",
       "      <td>11.2</td>\n",
       "      <td>0.28</td>\n",
       "      <td>0.56</td>\n",
       "      <td>1.9</td>\n",
       "      <td>0.075</td>\n",
       "      <td>17.0</td>\n",
       "      <td>60.0</td>\n",
       "      <td>0.9980</td>\n",
       "      <td>3.16</td>\n",
       "      <td>0.58</td>\n",
       "      <td>9.8</td>\n",
       "      <td>6</td>\n",
       "      <td>1</td>\n",
       "      <td>1</td>\n",
       "      <td>3</td>\n",
       "      <td>3</td>\n",
       "    </tr>\n",
       "    <tr>\n",
       "      <th>4</th>\n",
       "      <td>7.4</td>\n",
       "      <td>0.66</td>\n",
       "      <td>0.00</td>\n",
       "      <td>1.8</td>\n",
       "      <td>0.075</td>\n",
       "      <td>13.0</td>\n",
       "      <td>40.0</td>\n",
       "      <td>0.9978</td>\n",
       "      <td>3.51</td>\n",
       "      <td>0.56</td>\n",
       "      <td>9.4</td>\n",
       "      <td>5</td>\n",
       "      <td>1</td>\n",
       "      <td>0</td>\n",
       "      <td>1</td>\n",
       "      <td>3</td>\n",
       "    </tr>\n",
       "  </tbody>\n",
       "</table>\n",
       "</div>"
      ],
      "text/plain": [
       "   fixed acidity  volatile acidity  citric acid  residual sugar  chlorides  \\\n",
       "0            7.4              0.70         0.00             1.9      0.076   \n",
       "1            7.8              0.88         0.00             2.6      0.098   \n",
       "2            7.8              0.76         0.04             2.3      0.092   \n",
       "3           11.2              0.28         0.56             1.9      0.075   \n",
       "4            7.4              0.66         0.00             1.8      0.075   \n",
       "\n",
       "   free sulfur dioxide  total sulfur dioxide  density    pH  sulphates  \\\n",
       "0                 11.0                  34.0   0.9978  3.51       0.56   \n",
       "1                 25.0                  67.0   0.9968  3.20       0.68   \n",
       "2                 15.0                  54.0   0.9970  3.26       0.65   \n",
       "3                 17.0                  60.0   0.9980  3.16       0.58   \n",
       "4                 13.0                  40.0   0.9978  3.51       0.56   \n",
       "\n",
       "   alcohol  quality  red  clusters_1  clusters_2  clusters_3  \n",
       "0      9.4        5    1           0           1           3  \n",
       "1      9.8        5    1           0           1           3  \n",
       "2      9.8        5    1           0           1           3  \n",
       "3      9.8        6    1           1           3           3  \n",
       "4      9.4        5    1           0           1           3  "
      ]
     },
     "execution_count": 12,
     "metadata": {},
     "output_type": "execute_result"
    }
   ],
   "source": [
    "df = pd.read_csv('wine_data_model.csv') \n",
    "df.head()"
   ]
  },
  {
   "cell_type": "markdown",
   "id": "5166b034",
   "metadata": {},
   "source": [
    "Encode Clusters"
   ]
  },
  {
   "cell_type": "code",
   "execution_count": 13,
   "id": "8d0b8147",
   "metadata": {},
   "outputs": [
    {
     "data": {
      "text/html": [
       "<div>\n",
       "<style scoped>\n",
       "    .dataframe tbody tr th:only-of-type {\n",
       "        vertical-align: middle;\n",
       "    }\n",
       "\n",
       "    .dataframe tbody tr th {\n",
       "        vertical-align: top;\n",
       "    }\n",
       "\n",
       "    .dataframe thead th {\n",
       "        text-align: right;\n",
       "    }\n",
       "</style>\n",
       "<table border=\"1\" class=\"dataframe\">\n",
       "  <thead>\n",
       "    <tr style=\"text-align: right;\">\n",
       "      <th></th>\n",
       "      <th>fixed acidity</th>\n",
       "      <th>volatile acidity</th>\n",
       "      <th>citric acid</th>\n",
       "      <th>residual sugar</th>\n",
       "      <th>chlorides</th>\n",
       "      <th>free sulfur dioxide</th>\n",
       "      <th>total sulfur dioxide</th>\n",
       "      <th>density</th>\n",
       "      <th>pH</th>\n",
       "      <th>sulphates</th>\n",
       "      <th>...</th>\n",
       "      <th>clusters_1_2</th>\n",
       "      <th>clusters_1_3</th>\n",
       "      <th>clusters_2_0</th>\n",
       "      <th>clusters_2_1</th>\n",
       "      <th>clusters_2_2</th>\n",
       "      <th>clusters_2_3</th>\n",
       "      <th>clusters_3_0</th>\n",
       "      <th>clusters_3_1</th>\n",
       "      <th>clusters_3_2</th>\n",
       "      <th>clusters_3_3</th>\n",
       "    </tr>\n",
       "  </thead>\n",
       "  <tbody>\n",
       "    <tr>\n",
       "      <th>0</th>\n",
       "      <td>7.4</td>\n",
       "      <td>0.70</td>\n",
       "      <td>0.00</td>\n",
       "      <td>1.9</td>\n",
       "      <td>0.076</td>\n",
       "      <td>11.0</td>\n",
       "      <td>34.0</td>\n",
       "      <td>0.9978</td>\n",
       "      <td>3.51</td>\n",
       "      <td>0.56</td>\n",
       "      <td>...</td>\n",
       "      <td>0</td>\n",
       "      <td>0</td>\n",
       "      <td>0</td>\n",
       "      <td>1</td>\n",
       "      <td>0</td>\n",
       "      <td>0</td>\n",
       "      <td>0</td>\n",
       "      <td>0</td>\n",
       "      <td>0</td>\n",
       "      <td>1</td>\n",
       "    </tr>\n",
       "    <tr>\n",
       "      <th>1</th>\n",
       "      <td>7.8</td>\n",
       "      <td>0.88</td>\n",
       "      <td>0.00</td>\n",
       "      <td>2.6</td>\n",
       "      <td>0.098</td>\n",
       "      <td>25.0</td>\n",
       "      <td>67.0</td>\n",
       "      <td>0.9968</td>\n",
       "      <td>3.20</td>\n",
       "      <td>0.68</td>\n",
       "      <td>...</td>\n",
       "      <td>0</td>\n",
       "      <td>0</td>\n",
       "      <td>0</td>\n",
       "      <td>1</td>\n",
       "      <td>0</td>\n",
       "      <td>0</td>\n",
       "      <td>0</td>\n",
       "      <td>0</td>\n",
       "      <td>0</td>\n",
       "      <td>1</td>\n",
       "    </tr>\n",
       "    <tr>\n",
       "      <th>2</th>\n",
       "      <td>7.8</td>\n",
       "      <td>0.76</td>\n",
       "      <td>0.04</td>\n",
       "      <td>2.3</td>\n",
       "      <td>0.092</td>\n",
       "      <td>15.0</td>\n",
       "      <td>54.0</td>\n",
       "      <td>0.9970</td>\n",
       "      <td>3.26</td>\n",
       "      <td>0.65</td>\n",
       "      <td>...</td>\n",
       "      <td>0</td>\n",
       "      <td>0</td>\n",
       "      <td>0</td>\n",
       "      <td>1</td>\n",
       "      <td>0</td>\n",
       "      <td>0</td>\n",
       "      <td>0</td>\n",
       "      <td>0</td>\n",
       "      <td>0</td>\n",
       "      <td>1</td>\n",
       "    </tr>\n",
       "    <tr>\n",
       "      <th>3</th>\n",
       "      <td>11.2</td>\n",
       "      <td>0.28</td>\n",
       "      <td>0.56</td>\n",
       "      <td>1.9</td>\n",
       "      <td>0.075</td>\n",
       "      <td>17.0</td>\n",
       "      <td>60.0</td>\n",
       "      <td>0.9980</td>\n",
       "      <td>3.16</td>\n",
       "      <td>0.58</td>\n",
       "      <td>...</td>\n",
       "      <td>0</td>\n",
       "      <td>0</td>\n",
       "      <td>0</td>\n",
       "      <td>0</td>\n",
       "      <td>0</td>\n",
       "      <td>1</td>\n",
       "      <td>0</td>\n",
       "      <td>0</td>\n",
       "      <td>0</td>\n",
       "      <td>1</td>\n",
       "    </tr>\n",
       "    <tr>\n",
       "      <th>4</th>\n",
       "      <td>7.4</td>\n",
       "      <td>0.66</td>\n",
       "      <td>0.00</td>\n",
       "      <td>1.8</td>\n",
       "      <td>0.075</td>\n",
       "      <td>13.0</td>\n",
       "      <td>40.0</td>\n",
       "      <td>0.9978</td>\n",
       "      <td>3.51</td>\n",
       "      <td>0.56</td>\n",
       "      <td>...</td>\n",
       "      <td>0</td>\n",
       "      <td>0</td>\n",
       "      <td>0</td>\n",
       "      <td>1</td>\n",
       "      <td>0</td>\n",
       "      <td>0</td>\n",
       "      <td>0</td>\n",
       "      <td>0</td>\n",
       "      <td>0</td>\n",
       "      <td>1</td>\n",
       "    </tr>\n",
       "  </tbody>\n",
       "</table>\n",
       "<p>5 rows × 28 columns</p>\n",
       "</div>"
      ],
      "text/plain": [
       "   fixed acidity  volatile acidity  citric acid  residual sugar  chlorides  \\\n",
       "0            7.4              0.70         0.00             1.9      0.076   \n",
       "1            7.8              0.88         0.00             2.6      0.098   \n",
       "2            7.8              0.76         0.04             2.3      0.092   \n",
       "3           11.2              0.28         0.56             1.9      0.075   \n",
       "4            7.4              0.66         0.00             1.8      0.075   \n",
       "\n",
       "   free sulfur dioxide  total sulfur dioxide  density    pH  sulphates  ...  \\\n",
       "0                 11.0                  34.0   0.9978  3.51       0.56  ...   \n",
       "1                 25.0                  67.0   0.9968  3.20       0.68  ...   \n",
       "2                 15.0                  54.0   0.9970  3.26       0.65  ...   \n",
       "3                 17.0                  60.0   0.9980  3.16       0.58  ...   \n",
       "4                 13.0                  40.0   0.9978  3.51       0.56  ...   \n",
       "\n",
       "   clusters_1_2  clusters_1_3  clusters_2_0  clusters_2_1  clusters_2_2  \\\n",
       "0             0             0             0             1             0   \n",
       "1             0             0             0             1             0   \n",
       "2             0             0             0             1             0   \n",
       "3             0             0             0             0             0   \n",
       "4             0             0             0             1             0   \n",
       "\n",
       "   clusters_2_3  clusters_3_0  clusters_3_1  clusters_3_2  clusters_3_3  \n",
       "0             0             0             0             0             1  \n",
       "1             0             0             0             0             1  \n",
       "2             0             0             0             0             1  \n",
       "3             1             0             0             0             1  \n",
       "4             0             0             0             0             1  \n",
       "\n",
       "[5 rows x 28 columns]"
      ]
     },
     "execution_count": 13,
     "metadata": {},
     "output_type": "execute_result"
    }
   ],
   "source": [
    "df = pd.concat([df, \n",
    "                pd.get_dummies(df[['clusters_1','clusters_2','clusters_3']].astype(str))],\n",
    "                axis=1)\n",
    "df.head()"
   ]
  },
  {
   "cell_type": "markdown",
   "id": "4c79b081",
   "metadata": {},
   "source": [
    "Split data"
   ]
  },
  {
   "cell_type": "code",
   "execution_count": 14,
   "id": "291fedbb",
   "metadata": {},
   "outputs": [],
   "source": [
    "train, validate, test = split_data(df,\n",
    "                                   validate_size=.15, test_size=.15, random_state=123)"
   ]
  },
  {
   "cell_type": "markdown",
   "id": "3b463d7c",
   "metadata": {},
   "source": [
    "Scale data"
   ]
  },
  {
   "cell_type": "code",
   "execution_count": 15,
   "id": "ec1f2e3f",
   "metadata": {},
   "outputs": [],
   "source": [
    "scaler = MinMaxScaler()\n",
    "\n",
    "train_sc = pd.concat([pd.DataFrame(data=scaler.fit_transform(train.drop(columns=['quality'])),\n",
    "                                   columns=train.drop(columns=['quality']).columns),\n",
    "                      train[['quality']].reset_index().iloc[:,1]],\n",
    "                      axis=1)\n",
    "\n",
    "validate_sc = pd.concat([pd.DataFrame(data=scaler.transform(validate.drop(columns=['quality'])),\n",
    "                                   columns=validate.drop(columns=['quality']).columns),\n",
    "                         validate[['quality']].reset_index().iloc[:,1]],\n",
    "                         axis=1)\n",
    "\n",
    "test_sc = pd.concat([pd.DataFrame(data=scaler.transform(test.drop(columns=['quality'])),\n",
    "                                   columns=test.drop(columns=['quality']).columns),\n",
    "                     test[['quality']].reset_index().iloc[:,1]],\n",
    "                     axis=1)"
   ]
  },
  {
   "cell_type": "code",
   "execution_count": 16,
   "id": "fbb1e150",
   "metadata": {},
   "outputs": [
    {
     "data": {
      "text/html": [
       "<div>\n",
       "<style scoped>\n",
       "    .dataframe tbody tr th:only-of-type {\n",
       "        vertical-align: middle;\n",
       "    }\n",
       "\n",
       "    .dataframe tbody tr th {\n",
       "        vertical-align: top;\n",
       "    }\n",
       "\n",
       "    .dataframe thead th {\n",
       "        text-align: right;\n",
       "    }\n",
       "</style>\n",
       "<table border=\"1\" class=\"dataframe\">\n",
       "  <thead>\n",
       "    <tr style=\"text-align: right;\">\n",
       "      <th></th>\n",
       "      <th>fixed acidity</th>\n",
       "      <th>volatile acidity</th>\n",
       "      <th>citric acid</th>\n",
       "      <th>residual sugar</th>\n",
       "      <th>chlorides</th>\n",
       "      <th>free sulfur dioxide</th>\n",
       "      <th>total sulfur dioxide</th>\n",
       "      <th>density</th>\n",
       "      <th>pH</th>\n",
       "      <th>sulphates</th>\n",
       "      <th>...</th>\n",
       "      <th>clusters_1_3</th>\n",
       "      <th>clusters_2_0</th>\n",
       "      <th>clusters_2_1</th>\n",
       "      <th>clusters_2_2</th>\n",
       "      <th>clusters_2_3</th>\n",
       "      <th>clusters_3_0</th>\n",
       "      <th>clusters_3_1</th>\n",
       "      <th>clusters_3_2</th>\n",
       "      <th>clusters_3_3</th>\n",
       "      <th>quality</th>\n",
       "    </tr>\n",
       "  </thead>\n",
       "  <tbody>\n",
       "    <tr>\n",
       "      <th>0</th>\n",
       "      <td>0.289256</td>\n",
       "      <td>0.160000</td>\n",
       "      <td>0.174699</td>\n",
       "      <td>0.029032</td>\n",
       "      <td>0.043406</td>\n",
       "      <td>0.107639</td>\n",
       "      <td>0.317972</td>\n",
       "      <td>0.252264</td>\n",
       "      <td>0.372093</td>\n",
       "      <td>0.171429</td>\n",
       "      <td>...</td>\n",
       "      <td>0.0</td>\n",
       "      <td>0.0</td>\n",
       "      <td>0.0</td>\n",
       "      <td>1.0</td>\n",
       "      <td>0.0</td>\n",
       "      <td>0.0</td>\n",
       "      <td>1.0</td>\n",
       "      <td>0.0</td>\n",
       "      <td>0.0</td>\n",
       "      <td>5</td>\n",
       "    </tr>\n",
       "    <tr>\n",
       "      <th>1</th>\n",
       "      <td>0.190083</td>\n",
       "      <td>0.060000</td>\n",
       "      <td>0.168675</td>\n",
       "      <td>0.125806</td>\n",
       "      <td>0.035058</td>\n",
       "      <td>0.156250</td>\n",
       "      <td>0.331797</td>\n",
       "      <td>0.266925</td>\n",
       "      <td>0.550388</td>\n",
       "      <td>0.137143</td>\n",
       "      <td>...</td>\n",
       "      <td>0.0</td>\n",
       "      <td>0.0</td>\n",
       "      <td>0.0</td>\n",
       "      <td>1.0</td>\n",
       "      <td>0.0</td>\n",
       "      <td>0.0</td>\n",
       "      <td>1.0</td>\n",
       "      <td>0.0</td>\n",
       "      <td>0.0</td>\n",
       "      <td>6</td>\n",
       "    </tr>\n",
       "    <tr>\n",
       "      <th>2</th>\n",
       "      <td>0.314050</td>\n",
       "      <td>0.146667</td>\n",
       "      <td>0.150602</td>\n",
       "      <td>0.119355</td>\n",
       "      <td>0.070117</td>\n",
       "      <td>0.072917</td>\n",
       "      <td>0.241935</td>\n",
       "      <td>0.366106</td>\n",
       "      <td>0.310078</td>\n",
       "      <td>0.137143</td>\n",
       "      <td>...</td>\n",
       "      <td>0.0</td>\n",
       "      <td>0.0</td>\n",
       "      <td>1.0</td>\n",
       "      <td>0.0</td>\n",
       "      <td>0.0</td>\n",
       "      <td>0.0</td>\n",
       "      <td>0.0</td>\n",
       "      <td>0.0</td>\n",
       "      <td>1.0</td>\n",
       "      <td>5</td>\n",
       "    </tr>\n",
       "    <tr>\n",
       "      <th>3</th>\n",
       "      <td>0.214876</td>\n",
       "      <td>0.153333</td>\n",
       "      <td>0.301205</td>\n",
       "      <td>0.167742</td>\n",
       "      <td>0.043406</td>\n",
       "      <td>0.142361</td>\n",
       "      <td>0.241935</td>\n",
       "      <td>0.206123</td>\n",
       "      <td>0.356589</td>\n",
       "      <td>0.160000</td>\n",
       "      <td>...</td>\n",
       "      <td>1.0</td>\n",
       "      <td>1.0</td>\n",
       "      <td>0.0</td>\n",
       "      <td>0.0</td>\n",
       "      <td>0.0</td>\n",
       "      <td>0.0</td>\n",
       "      <td>0.0</td>\n",
       "      <td>1.0</td>\n",
       "      <td>0.0</td>\n",
       "      <td>7</td>\n",
       "    </tr>\n",
       "    <tr>\n",
       "      <th>4</th>\n",
       "      <td>0.148760</td>\n",
       "      <td>0.120000</td>\n",
       "      <td>0.000000</td>\n",
       "      <td>0.309677</td>\n",
       "      <td>0.043406</td>\n",
       "      <td>0.041667</td>\n",
       "      <td>0.241935</td>\n",
       "      <td>0.260457</td>\n",
       "      <td>0.558140</td>\n",
       "      <td>0.120000</td>\n",
       "      <td>...</td>\n",
       "      <td>1.0</td>\n",
       "      <td>1.0</td>\n",
       "      <td>0.0</td>\n",
       "      <td>0.0</td>\n",
       "      <td>0.0</td>\n",
       "      <td>0.0</td>\n",
       "      <td>0.0</td>\n",
       "      <td>1.0</td>\n",
       "      <td>0.0</td>\n",
       "      <td>6</td>\n",
       "    </tr>\n",
       "    <tr>\n",
       "      <th>...</th>\n",
       "      <td>...</td>\n",
       "      <td>...</td>\n",
       "      <td>...</td>\n",
       "      <td>...</td>\n",
       "      <td>...</td>\n",
       "      <td>...</td>\n",
       "      <td>...</td>\n",
       "      <td>...</td>\n",
       "      <td>...</td>\n",
       "      <td>...</td>\n",
       "      <td>...</td>\n",
       "      <td>...</td>\n",
       "      <td>...</td>\n",
       "      <td>...</td>\n",
       "      <td>...</td>\n",
       "      <td>...</td>\n",
       "      <td>...</td>\n",
       "      <td>...</td>\n",
       "      <td>...</td>\n",
       "      <td>...</td>\n",
       "      <td>...</td>\n",
       "    </tr>\n",
       "    <tr>\n",
       "      <th>3719</th>\n",
       "      <td>0.347107</td>\n",
       "      <td>0.033333</td>\n",
       "      <td>0.150602</td>\n",
       "      <td>0.016129</td>\n",
       "      <td>0.035058</td>\n",
       "      <td>0.048611</td>\n",
       "      <td>0.184332</td>\n",
       "      <td>0.143596</td>\n",
       "      <td>0.201550</td>\n",
       "      <td>0.080000</td>\n",
       "      <td>...</td>\n",
       "      <td>0.0</td>\n",
       "      <td>0.0</td>\n",
       "      <td>0.0</td>\n",
       "      <td>1.0</td>\n",
       "      <td>0.0</td>\n",
       "      <td>0.0</td>\n",
       "      <td>1.0</td>\n",
       "      <td>0.0</td>\n",
       "      <td>0.0</td>\n",
       "      <td>8</td>\n",
       "    </tr>\n",
       "    <tr>\n",
       "      <th>3720</th>\n",
       "      <td>0.264463</td>\n",
       "      <td>0.046667</td>\n",
       "      <td>0.228916</td>\n",
       "      <td>0.051613</td>\n",
       "      <td>0.058431</td>\n",
       "      <td>0.111111</td>\n",
       "      <td>0.207373</td>\n",
       "      <td>0.245364</td>\n",
       "      <td>0.317829</td>\n",
       "      <td>0.080000</td>\n",
       "      <td>...</td>\n",
       "      <td>0.0</td>\n",
       "      <td>0.0</td>\n",
       "      <td>0.0</td>\n",
       "      <td>1.0</td>\n",
       "      <td>0.0</td>\n",
       "      <td>0.0</td>\n",
       "      <td>1.0</td>\n",
       "      <td>0.0</td>\n",
       "      <td>0.0</td>\n",
       "      <td>8</td>\n",
       "    </tr>\n",
       "    <tr>\n",
       "      <th>3721</th>\n",
       "      <td>0.099174</td>\n",
       "      <td>0.200000</td>\n",
       "      <td>0.006024</td>\n",
       "      <td>0.032258</td>\n",
       "      <td>0.060100</td>\n",
       "      <td>0.086806</td>\n",
       "      <td>0.124424</td>\n",
       "      <td>0.160845</td>\n",
       "      <td>0.759690</td>\n",
       "      <td>0.285714</td>\n",
       "      <td>...</td>\n",
       "      <td>1.0</td>\n",
       "      <td>1.0</td>\n",
       "      <td>0.0</td>\n",
       "      <td>0.0</td>\n",
       "      <td>0.0</td>\n",
       "      <td>0.0</td>\n",
       "      <td>0.0</td>\n",
       "      <td>1.0</td>\n",
       "      <td>0.0</td>\n",
       "      <td>6</td>\n",
       "    </tr>\n",
       "    <tr>\n",
       "      <th>3722</th>\n",
       "      <td>0.355372</td>\n",
       "      <td>0.126667</td>\n",
       "      <td>0.198795</td>\n",
       "      <td>0.022581</td>\n",
       "      <td>0.055092</td>\n",
       "      <td>0.086806</td>\n",
       "      <td>0.216590</td>\n",
       "      <td>0.153083</td>\n",
       "      <td>0.201550</td>\n",
       "      <td>0.108571</td>\n",
       "      <td>...</td>\n",
       "      <td>1.0</td>\n",
       "      <td>1.0</td>\n",
       "      <td>0.0</td>\n",
       "      <td>0.0</td>\n",
       "      <td>0.0</td>\n",
       "      <td>0.0</td>\n",
       "      <td>0.0</td>\n",
       "      <td>1.0</td>\n",
       "      <td>0.0</td>\n",
       "      <td>6</td>\n",
       "    </tr>\n",
       "    <tr>\n",
       "      <th>3723</th>\n",
       "      <td>0.314050</td>\n",
       "      <td>0.140000</td>\n",
       "      <td>0.253012</td>\n",
       "      <td>0.022581</td>\n",
       "      <td>0.038397</td>\n",
       "      <td>0.059028</td>\n",
       "      <td>0.184332</td>\n",
       "      <td>0.159120</td>\n",
       "      <td>0.209302</td>\n",
       "      <td>0.080000</td>\n",
       "      <td>...</td>\n",
       "      <td>0.0</td>\n",
       "      <td>0.0</td>\n",
       "      <td>0.0</td>\n",
       "      <td>1.0</td>\n",
       "      <td>0.0</td>\n",
       "      <td>0.0</td>\n",
       "      <td>1.0</td>\n",
       "      <td>0.0</td>\n",
       "      <td>0.0</td>\n",
       "      <td>5</td>\n",
       "    </tr>\n",
       "  </tbody>\n",
       "</table>\n",
       "<p>3724 rows × 28 columns</p>\n",
       "</div>"
      ],
      "text/plain": [
       "      fixed acidity  volatile acidity  citric acid  residual sugar  chlorides  \\\n",
       "0          0.289256          0.160000     0.174699        0.029032   0.043406   \n",
       "1          0.190083          0.060000     0.168675        0.125806   0.035058   \n",
       "2          0.314050          0.146667     0.150602        0.119355   0.070117   \n",
       "3          0.214876          0.153333     0.301205        0.167742   0.043406   \n",
       "4          0.148760          0.120000     0.000000        0.309677   0.043406   \n",
       "...             ...               ...          ...             ...        ...   \n",
       "3719       0.347107          0.033333     0.150602        0.016129   0.035058   \n",
       "3720       0.264463          0.046667     0.228916        0.051613   0.058431   \n",
       "3721       0.099174          0.200000     0.006024        0.032258   0.060100   \n",
       "3722       0.355372          0.126667     0.198795        0.022581   0.055092   \n",
       "3723       0.314050          0.140000     0.253012        0.022581   0.038397   \n",
       "\n",
       "      free sulfur dioxide  total sulfur dioxide   density        pH  \\\n",
       "0                0.107639              0.317972  0.252264  0.372093   \n",
       "1                0.156250              0.331797  0.266925  0.550388   \n",
       "2                0.072917              0.241935  0.366106  0.310078   \n",
       "3                0.142361              0.241935  0.206123  0.356589   \n",
       "4                0.041667              0.241935  0.260457  0.558140   \n",
       "...                   ...                   ...       ...       ...   \n",
       "3719             0.048611              0.184332  0.143596  0.201550   \n",
       "3720             0.111111              0.207373  0.245364  0.317829   \n",
       "3721             0.086806              0.124424  0.160845  0.759690   \n",
       "3722             0.086806              0.216590  0.153083  0.201550   \n",
       "3723             0.059028              0.184332  0.159120  0.209302   \n",
       "\n",
       "      sulphates  ...  clusters_1_3  clusters_2_0  clusters_2_1  clusters_2_2  \\\n",
       "0      0.171429  ...           0.0           0.0           0.0           1.0   \n",
       "1      0.137143  ...           0.0           0.0           0.0           1.0   \n",
       "2      0.137143  ...           0.0           0.0           1.0           0.0   \n",
       "3      0.160000  ...           1.0           1.0           0.0           0.0   \n",
       "4      0.120000  ...           1.0           1.0           0.0           0.0   \n",
       "...         ...  ...           ...           ...           ...           ...   \n",
       "3719   0.080000  ...           0.0           0.0           0.0           1.0   \n",
       "3720   0.080000  ...           0.0           0.0           0.0           1.0   \n",
       "3721   0.285714  ...           1.0           1.0           0.0           0.0   \n",
       "3722   0.108571  ...           1.0           1.0           0.0           0.0   \n",
       "3723   0.080000  ...           0.0           0.0           0.0           1.0   \n",
       "\n",
       "      clusters_2_3  clusters_3_0  clusters_3_1  clusters_3_2  clusters_3_3  \\\n",
       "0              0.0           0.0           1.0           0.0           0.0   \n",
       "1              0.0           0.0           1.0           0.0           0.0   \n",
       "2              0.0           0.0           0.0           0.0           1.0   \n",
       "3              0.0           0.0           0.0           1.0           0.0   \n",
       "4              0.0           0.0           0.0           1.0           0.0   \n",
       "...            ...           ...           ...           ...           ...   \n",
       "3719           0.0           0.0           1.0           0.0           0.0   \n",
       "3720           0.0           0.0           1.0           0.0           0.0   \n",
       "3721           0.0           0.0           0.0           1.0           0.0   \n",
       "3722           0.0           0.0           0.0           1.0           0.0   \n",
       "3723           0.0           0.0           1.0           0.0           0.0   \n",
       "\n",
       "      quality  \n",
       "0           5  \n",
       "1           6  \n",
       "2           5  \n",
       "3           7  \n",
       "4           6  \n",
       "...       ...  \n",
       "3719        8  \n",
       "3720        8  \n",
       "3721        6  \n",
       "3722        6  \n",
       "3723        5  \n",
       "\n",
       "[3724 rows x 28 columns]"
      ]
     },
     "execution_count": 16,
     "metadata": {},
     "output_type": "execute_result"
    }
   ],
   "source": [
    "train_sc"
   ]
  },
  {
   "cell_type": "markdown",
   "id": "c6f2025c",
   "metadata": {},
   "source": [
    "## Modeling before Clustering"
   ]
  },
  {
   "cell_type": "code",
   "execution_count": 17,
   "id": "127712b2",
   "metadata": {},
   "outputs": [],
   "source": [
    "features = ['alcohol', 'volatile acidity', 'chlorides']\n",
    "target = ['quality']"
   ]
  },
  {
   "cell_type": "code",
   "execution_count": 18,
   "id": "cf588fc4",
   "metadata": {},
   "outputs": [],
   "source": [
    "# pick features\n",
    "X_train = train_sc[features]\n",
    "X_validate = validate_sc[features]\n",
    "X_test = test_sc[features]\n",
    "\n",
    "# only add target\n",
    "y_train = train_sc[target]\n",
    "y_vaildate = validate_sc[target]\n",
    "y_test = test_sc[target]"
   ]
  },
  {
   "cell_type": "markdown",
   "id": "36787a66",
   "metadata": {},
   "source": [
    "**Baseline Model**"
   ]
  },
  {
   "cell_type": "code",
   "execution_count": 19,
   "id": "36319ab0",
   "metadata": {},
   "outputs": [],
   "source": [
    "dummy = DummyRegressor().fit(X_train, y_train)"
   ]
  },
  {
   "cell_type": "markdown",
   "id": "905c7d78",
   "metadata": {},
   "source": [
    "Evaluate"
   ]
  },
  {
   "cell_type": "code",
   "execution_count": 20,
   "id": "3810b5a5",
   "metadata": {},
   "outputs": [
    {
     "data": {
      "text/plain": [
       "0.877247065526987"
      ]
     },
     "execution_count": 20,
     "metadata": {},
     "output_type": "execute_result"
    }
   ],
   "source": [
    "# RMSE\n",
    "mean_squared_error(y_train, dummy.predict(X_train),\n",
    "                   squared=False)"
   ]
  },
  {
   "cell_type": "code",
   "execution_count": 21,
   "id": "b2c9d316",
   "metadata": {},
   "outputs": [
    {
     "data": {
      "text/plain": [
       "0.0"
      ]
     },
     "execution_count": 21,
     "metadata": {},
     "output_type": "execute_result"
    }
   ],
   "source": [
    "# R2\n",
    "r2_score(y_train, dummy.predict(X_train))"
   ]
  },
  {
   "cell_type": "markdown",
   "id": "bc3f593f",
   "metadata": {},
   "source": [
    "**Linear Regression Model**"
   ]
  },
  {
   "cell_type": "code",
   "execution_count": 22,
   "id": "98516610",
   "metadata": {},
   "outputs": [],
   "source": [
    "def run_lm_model(X, y):\n",
    "    \n",
    "    # run model\n",
    "    lm = LinearRegression().fit(X, y)\n",
    "    \n",
    "    # RMSE\n",
    "    rmse = mean_squared_error(y, lm.predict(X), squared=False)\n",
    "    # R2\n",
    "    r2 = r2_score(y, lm.predict(X))\n",
    "    \n",
    "    \n",
    "    print(f'RMSE = {rmse}\\nR2 = {r2}')\n",
    "    \n",
    "    return rmse, r2"
   ]
  },
  {
   "cell_type": "code",
   "execution_count": 23,
   "id": "3947c7e4",
   "metadata": {
    "scrolled": true
   },
   "outputs": [
    {
     "name": "stdout",
     "output_type": "stream",
     "text": [
      "RMSE = 0.7398947098676343\n",
      "R2 = 0.2886292628795276\n"
     ]
    },
    {
     "data": {
      "text/plain": [
       "(0.7398947098676343, 0.2886292628795276)"
      ]
     },
     "execution_count": 23,
     "metadata": {},
     "output_type": "execute_result"
    }
   ],
   "source": [
    "run_lm_model(X_train, y_train)"
   ]
  },
  {
   "cell_type": "code",
   "execution_count": 24,
   "id": "5d7b322f",
   "metadata": {},
   "outputs": [
    {
     "name": "stdout",
     "output_type": "stream",
     "text": [
      "RMSE = 0.744114472234354\n",
      "R2 = 0.2669769407054128\n"
     ]
    },
    {
     "data": {
      "text/plain": [
       "(0.744114472234354, 0.2669769407054128)"
      ]
     },
     "execution_count": 24,
     "metadata": {},
     "output_type": "execute_result"
    }
   ],
   "source": [
    "run_lm_model(X_validate, y_vaildate)"
   ]
  },
  {
   "cell_type": "markdown",
   "id": "7b69c392",
   "metadata": {},
   "source": [
    "## Modeling on first group of clusters\n",
    "\n",
    "Cluster 3 in the first group of clusters yields much higher quality."
   ]
  },
  {
   "cell_type": "code",
   "execution_count": 25,
   "id": "27557c95",
   "metadata": {},
   "outputs": [],
   "source": [
    "features = ['alcohol', 'volatile acidity', 'chlorides','clusters_1_3']\n",
    "target = ['quality']"
   ]
  },
  {
   "cell_type": "code",
   "execution_count": 26,
   "id": "28a7d946",
   "metadata": {},
   "outputs": [],
   "source": [
    "# pick features\n",
    "X_train = train_sc[features]\n",
    "X_validate = validate_sc[features]\n",
    "X_test = test_sc[features]\n",
    "\n",
    "# only add target\n",
    "y_train = train_sc[target]\n",
    "y_vaildate = validate_sc[target]\n",
    "y_test = test_sc[target]"
   ]
  },
  {
   "cell_type": "markdown",
   "id": "d8a9ff80",
   "metadata": {},
   "source": [
    "**Linear Regression Model**"
   ]
  },
  {
   "cell_type": "code",
   "execution_count": 27,
   "id": "6b48b9e6",
   "metadata": {
    "scrolled": true
   },
   "outputs": [
    {
     "name": "stdout",
     "output_type": "stream",
     "text": [
      "RMSE = 0.7395038708507858\n",
      "R2 = 0.28938060763898354\n"
     ]
    },
    {
     "data": {
      "text/plain": [
       "(0.7395038708507858, 0.28938060763898354)"
      ]
     },
     "execution_count": 27,
     "metadata": {},
     "output_type": "execute_result"
    }
   ],
   "source": [
    "run_lm_model(X_train, y_train)"
   ]
  },
  {
   "cell_type": "code",
   "execution_count": 28,
   "id": "234ad381",
   "metadata": {},
   "outputs": [
    {
     "name": "stdout",
     "output_type": "stream",
     "text": [
      "RMSE = 0.7440493843731463\n",
      "R2 = 0.2671051704826418\n"
     ]
    },
    {
     "data": {
      "text/plain": [
       "(0.7440493843731463, 0.2671051704826418)"
      ]
     },
     "execution_count": 28,
     "metadata": {},
     "output_type": "execute_result"
    }
   ],
   "source": [
    "run_lm_model(X_validate, y_vaildate)"
   ]
  },
  {
   "cell_type": "markdown",
   "id": "d45a5e1b",
   "metadata": {},
   "source": [
    "## Modeling on second group of clusters\n",
    "\n",
    "Cluster 0 in the second group of clusters yields much higher quality."
   ]
  },
  {
   "cell_type": "code",
   "execution_count": 29,
   "id": "4e19ffd7",
   "metadata": {},
   "outputs": [],
   "source": [
    "features = ['alcohol', 'volatile acidity', 'chlorides', 'clusters_2_0']\n",
    "target = ['quality']"
   ]
  },
  {
   "cell_type": "code",
   "execution_count": 30,
   "id": "909c86ee",
   "metadata": {},
   "outputs": [],
   "source": [
    "# pick features\n",
    "X_train = train_sc[features]\n",
    "X_validate = validate_sc[features]\n",
    "X_test = test_sc[features]\n",
    "\n",
    "# only add target\n",
    "y_train = train_sc[target]\n",
    "y_vaildate = validate_sc[target]\n",
    "y_test = test_sc[target]"
   ]
  },
  {
   "cell_type": "markdown",
   "id": "d190e749",
   "metadata": {},
   "source": [
    "**Linear Regression Model**"
   ]
  },
  {
   "cell_type": "code",
   "execution_count": 31,
   "id": "e6a45f48",
   "metadata": {
    "scrolled": true
   },
   "outputs": [
    {
     "name": "stdout",
     "output_type": "stream",
     "text": [
      "RMSE = 0.7394397912775634\n",
      "R2 = 0.2895037556474729\n"
     ]
    },
    {
     "data": {
      "text/plain": [
       "(0.7394397912775634, 0.2895037556474729)"
      ]
     },
     "execution_count": 31,
     "metadata": {},
     "output_type": "execute_result"
    }
   ],
   "source": [
    "run_lm_model(X_train, y_train)"
   ]
  },
  {
   "cell_type": "code",
   "execution_count": 32,
   "id": "c6517abe",
   "metadata": {},
   "outputs": [
    {
     "name": "stdout",
     "output_type": "stream",
     "text": [
      "RMSE = 0.7440616909123617\n",
      "R2 = 0.26708092619526\n"
     ]
    },
    {
     "data": {
      "text/plain": [
       "(0.7440616909123617, 0.26708092619526)"
      ]
     },
     "execution_count": 32,
     "metadata": {},
     "output_type": "execute_result"
    }
   ],
   "source": [
    "run_lm_model(X_validate, y_vaildate)"
   ]
  },
  {
   "cell_type": "markdown",
   "id": "63fdb06a",
   "metadata": {},
   "source": [
    "## Modeling on third group of clusters\n",
    "\n",
    "Cluster 2 in the third group of clusters yields much higher quality."
   ]
  },
  {
   "cell_type": "code",
   "execution_count": 33,
   "id": "5762b447",
   "metadata": {},
   "outputs": [],
   "source": [
    "features = ['alcohol', 'volatile acidity', 'chlorides', 'clusters_3_2']\n",
    "target = ['quality']"
   ]
  },
  {
   "cell_type": "code",
   "execution_count": 34,
   "id": "ac0edb7a",
   "metadata": {},
   "outputs": [],
   "source": [
    "# pick features\n",
    "X_train = train_sc[features]\n",
    "X_validate = validate_sc[features]\n",
    "X_test = test_sc[features]\n",
    "\n",
    "# only add target\n",
    "y_train = train_sc[target]\n",
    "y_vaildate = validate_sc[target]\n",
    "y_test = test_sc[target]"
   ]
  },
  {
   "cell_type": "markdown",
   "id": "645426c8",
   "metadata": {},
   "source": [
    "**Linear Regression Model**"
   ]
  },
  {
   "cell_type": "code",
   "execution_count": 35,
   "id": "9a2290af",
   "metadata": {
    "scrolled": true
   },
   "outputs": [
    {
     "name": "stdout",
     "output_type": "stream",
     "text": [
      "RMSE = 0.7392443941862726\n",
      "R2 = 0.28987920354296515\n"
     ]
    },
    {
     "data": {
      "text/plain": [
       "(0.7392443941862726, 0.28987920354296515)"
      ]
     },
     "execution_count": 35,
     "metadata": {},
     "output_type": "execute_result"
    }
   ],
   "source": [
    "run_lm_model(X_train, y_train)"
   ]
  },
  {
   "cell_type": "code",
   "execution_count": 36,
   "id": "1ee209d0",
   "metadata": {},
   "outputs": [
    {
     "name": "stdout",
     "output_type": "stream",
     "text": [
      "RMSE = 0.7439451470525476\n",
      "R2 = 0.26731050535328305\n"
     ]
    },
    {
     "data": {
      "text/plain": [
       "(0.7439451470525476, 0.26731050535328305)"
      ]
     },
     "execution_count": 36,
     "metadata": {},
     "output_type": "execute_result"
    }
   ],
   "source": [
    "run_lm_model(X_validate, y_vaildate)"
   ]
  },
  {
   "cell_type": "code",
   "execution_count": null,
   "id": "2338d8c0",
   "metadata": {},
   "outputs": [],
   "source": []
  }
 ],
 "metadata": {
  "kernelspec": {
   "display_name": "Python 3 (ipykernel)",
   "language": "python",
   "name": "python3"
  },
  "language_info": {
   "codemirror_mode": {
    "name": "ipython",
    "version": 3
   },
   "file_extension": ".py",
   "mimetype": "text/x-python",
   "name": "python",
   "nbconvert_exporter": "python",
   "pygments_lexer": "ipython3",
   "version": "3.10.9"
  },
  "varInspector": {
   "cols": {
    "lenName": 16,
    "lenType": 16,
    "lenVar": 40
   },
   "kernels_config": {
    "python": {
     "delete_cmd_postfix": "",
     "delete_cmd_prefix": "del ",
     "library": "var_list.py",
     "varRefreshCmd": "print(var_dic_list())"
    },
    "r": {
     "delete_cmd_postfix": ") ",
     "delete_cmd_prefix": "rm(",
     "library": "var_list.r",
     "varRefreshCmd": "cat(var_dic_list()) "
    }
   },
   "types_to_exclude": [
    "module",
    "function",
    "builtin_function_or_method",
    "instance",
    "_Feature"
   ],
   "window_display": false
  }
 },
 "nbformat": 4,
 "nbformat_minor": 5
}
