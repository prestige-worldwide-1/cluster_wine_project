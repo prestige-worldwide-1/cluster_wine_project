{
 "cells": [
  {
   "cell_type": "markdown",
   "id": "0f35952b",
   "metadata": {},
   "source": [
    "# Model\n",
    "\n",
    "Plan:\n",
    "\n",
    "- Develop a model to predict property value\n",
    "- Use drivers identified in explore to build predictive regression models\n",
    "- Create and run a baseline model with sklearn's `DummyRegressor` to compare our results to\n",
    "- Create and run `Linear Regression`, `LassoLars`, and Polynomial regression models\n",
    "- Use the insights from the highest-performing model (with highest test RMSE) to confirm our initial hypotheses and insights on the features that are the biggest drivers of property value"
   ]
  },
  {
   "cell_type": "code",
   "execution_count": 4,
   "id": "0569dce4",
   "metadata": {},
   "outputs": [],
   "source": [
    "import pandas as pd\n",
    "\n",
    "from sklearn.preprocessing import PolynomialFeatures\n",
    "\n",
    "from sklearn.dummy import DummyRegressor\n",
    "from sklearn.linear_model import LinearRegression, LassoLars\n",
    "\n",
    "from sklearn.metrics import mean_squared_error, r2_score\n",
    "\n",
    "from sklearn.preprocessing import MinMaxScaler\n",
    "\n",
    "from wrangle import split_data\n"
   ]
  },
  {
   "cell_type": "markdown",
   "id": "276ab00c",
   "metadata": {},
   "source": [
    "## Preprocessing before Clustering\n",
    "\n",
    "Features: `['alcohol', 'volatile acidity', 'chlorides']`\n",
    "\n",
    "Scale features:\n",
    "- MinMax\n",
    "\n",
    "Before scaling, split data"
   ]
  },
  {
   "cell_type": "code",
   "execution_count": 5,
   "id": "d2791abf",
   "metadata": {},
   "outputs": [],
   "source": [
    "df = pd.read_csv('wine_data.csv') \n",
    "\n"
   ]
  },
  {
   "cell_type": "code",
   "execution_count": 6,
   "id": "a326b0ff",
   "metadata": {},
   "outputs": [],
   "source": [
    "features = ['alcohol', 'volatile acidity', 'chlorides']\n",
    "target = ['quality']\n",
    "\n",
    "train, validate, test = split_data(df[features + target + ['color']],\n",
    "                                   validate_size=.15, test_size=.15, \n",
    "                                   stratify_col='color', random_state=123)\n",
    "\n",
    "# drop color column\n",
    "train = train.iloc[:,:-1]\n",
    "validate = validate.iloc[:,:-1]\n",
    "test = test.iloc[:,:-1]"
   ]
  },
  {
   "cell_type": "code",
   "execution_count": 8,
   "id": "e8878f00",
   "metadata": {},
   "outputs": [
    {
     "name": "stdout",
     "output_type": "stream",
     "text": [
      "3724 798 798\n"
     ]
    },
    {
     "data": {
      "text/html": [
       "<div>\n",
       "<style scoped>\n",
       "    .dataframe tbody tr th:only-of-type {\n",
       "        vertical-align: middle;\n",
       "    }\n",
       "\n",
       "    .dataframe tbody tr th {\n",
       "        vertical-align: top;\n",
       "    }\n",
       "\n",
       "    .dataframe thead th {\n",
       "        text-align: right;\n",
       "    }\n",
       "</style>\n",
       "<table border=\"1\" class=\"dataframe\">\n",
       "  <thead>\n",
       "    <tr style=\"text-align: right;\">\n",
       "      <th></th>\n",
       "      <th>alcohol</th>\n",
       "      <th>volatile acidity</th>\n",
       "      <th>chlorides</th>\n",
       "      <th>quality</th>\n",
       "    </tr>\n",
       "  </thead>\n",
       "  <tbody>\n",
       "    <tr>\n",
       "      <th>1179</th>\n",
       "      <td>11.0</td>\n",
       "      <td>0.64</td>\n",
       "      <td>0.094</td>\n",
       "      <td>5</td>\n",
       "    </tr>\n",
       "    <tr>\n",
       "      <th>3674</th>\n",
       "      <td>12.1</td>\n",
       "      <td>0.26</td>\n",
       "      <td>0.025</td>\n",
       "      <td>7</td>\n",
       "    </tr>\n",
       "    <tr>\n",
       "      <th>1590</th>\n",
       "      <td>9.5</td>\n",
       "      <td>0.29</td>\n",
       "      <td>0.046</td>\n",
       "      <td>5</td>\n",
       "    </tr>\n",
       "    <tr>\n",
       "      <th>2743</th>\n",
       "      <td>10.1</td>\n",
       "      <td>0.22</td>\n",
       "      <td>0.054</td>\n",
       "      <td>6</td>\n",
       "    </tr>\n",
       "    <tr>\n",
       "      <th>1659</th>\n",
       "      <td>11.9</td>\n",
       "      <td>0.33</td>\n",
       "      <td>0.038</td>\n",
       "      <td>7</td>\n",
       "    </tr>\n",
       "  </tbody>\n",
       "</table>\n",
       "</div>"
      ],
      "text/plain": [
       "      alcohol  volatile acidity  chlorides  quality\n",
       "1179     11.0              0.64      0.094        5\n",
       "3674     12.1              0.26      0.025        7\n",
       "1590      9.5              0.29      0.046        5\n",
       "2743     10.1              0.22      0.054        6\n",
       "1659     11.9              0.33      0.038        7"
      ]
     },
     "execution_count": 8,
     "metadata": {},
     "output_type": "execute_result"
    }
   ],
   "source": [
    "print(len(train), len(validate), len(test))\n",
    "train.head()"
   ]
  },
  {
   "cell_type": "code",
   "execution_count": 9,
   "id": "a59201c9",
   "metadata": {},
   "outputs": [],
   "source": [
    "# remove target\n",
    "X_train = train[features]\n",
    "X_validate = validate[features]\n",
    "X_test = test[features]\n",
    "\n",
    "# only add target\n",
    "y_train = train[target]\n",
    "y_vaildate = validate[target]\n",
    "y_test = test[target]"
   ]
  },
  {
   "cell_type": "code",
   "execution_count": 10,
   "id": "304a428c",
   "metadata": {},
   "outputs": [],
   "source": [
    "scaler = MinMaxScaler()\n",
    "\n",
    "X_train_scaled = scaler.fit_transform(X_train)\n",
    "X_validate_scaled = scaler.transform(X_validate)\n",
    "X_test_scaled = scaler.transform(X_test)"
   ]
  },
  {
   "cell_type": "markdown",
   "id": "d0fc0d35",
   "metadata": {},
   "source": [
    "## Modeling before Clustering"
   ]
  },
  {
   "cell_type": "markdown",
   "id": "aa97fb33",
   "metadata": {},
   "source": [
    "**Baseline Model**"
   ]
  },
  {
   "cell_type": "code",
   "execution_count": 12,
   "id": "3c165f6e",
   "metadata": {},
   "outputs": [],
   "source": [
    "dummy = DummyRegressor().fit(X_train_scaled, y_train)"
   ]
  },
  {
   "cell_type": "code",
   "execution_count": 13,
   "id": "6a060995",
   "metadata": {},
   "outputs": [],
   "source": [
    "train['baseline_pred'] = dummy.predict(X_train_scaled)"
   ]
  },
  {
   "cell_type": "code",
   "execution_count": 14,
   "id": "290fae75",
   "metadata": {},
   "outputs": [
    {
     "data": {
      "text/html": [
       "<div>\n",
       "<style scoped>\n",
       "    .dataframe tbody tr th:only-of-type {\n",
       "        vertical-align: middle;\n",
       "    }\n",
       "\n",
       "    .dataframe tbody tr th {\n",
       "        vertical-align: top;\n",
       "    }\n",
       "\n",
       "    .dataframe thead th {\n",
       "        text-align: right;\n",
       "    }\n",
       "</style>\n",
       "<table border=\"1\" class=\"dataframe\">\n",
       "  <thead>\n",
       "    <tr style=\"text-align: right;\">\n",
       "      <th></th>\n",
       "      <th>alcohol</th>\n",
       "      <th>volatile acidity</th>\n",
       "      <th>chlorides</th>\n",
       "      <th>quality</th>\n",
       "      <th>baseline_pred</th>\n",
       "    </tr>\n",
       "  </thead>\n",
       "  <tbody>\n",
       "    <tr>\n",
       "      <th>1179</th>\n",
       "      <td>11.0</td>\n",
       "      <td>0.64</td>\n",
       "      <td>0.094</td>\n",
       "      <td>5</td>\n",
       "      <td>5.8029</td>\n",
       "    </tr>\n",
       "    <tr>\n",
       "      <th>3674</th>\n",
       "      <td>12.1</td>\n",
       "      <td>0.26</td>\n",
       "      <td>0.025</td>\n",
       "      <td>7</td>\n",
       "      <td>5.8029</td>\n",
       "    </tr>\n",
       "    <tr>\n",
       "      <th>1590</th>\n",
       "      <td>9.5</td>\n",
       "      <td>0.29</td>\n",
       "      <td>0.046</td>\n",
       "      <td>5</td>\n",
       "      <td>5.8029</td>\n",
       "    </tr>\n",
       "    <tr>\n",
       "      <th>2743</th>\n",
       "      <td>10.1</td>\n",
       "      <td>0.22</td>\n",
       "      <td>0.054</td>\n",
       "      <td>6</td>\n",
       "      <td>5.8029</td>\n",
       "    </tr>\n",
       "    <tr>\n",
       "      <th>1659</th>\n",
       "      <td>11.9</td>\n",
       "      <td>0.33</td>\n",
       "      <td>0.038</td>\n",
       "      <td>7</td>\n",
       "      <td>5.8029</td>\n",
       "    </tr>\n",
       "  </tbody>\n",
       "</table>\n",
       "</div>"
      ],
      "text/plain": [
       "      alcohol  volatile acidity  chlorides  quality  baseline_pred\n",
       "1179     11.0              0.64      0.094        5         5.8029\n",
       "3674     12.1              0.26      0.025        7         5.8029\n",
       "1590      9.5              0.29      0.046        5         5.8029\n",
       "2743     10.1              0.22      0.054        6         5.8029\n",
       "1659     11.9              0.33      0.038        7         5.8029"
      ]
     },
     "execution_count": 14,
     "metadata": {},
     "output_type": "execute_result"
    }
   ],
   "source": [
    "train.head()"
   ]
  },
  {
   "cell_type": "markdown",
   "id": "3a9a9456",
   "metadata": {},
   "source": [
    "Evaluate"
   ]
  },
  {
   "cell_type": "code",
   "execution_count": 15,
   "id": "027bc9eb",
   "metadata": {},
   "outputs": [
    {
     "data": {
      "text/plain": [
       "0.886909313701455"
      ]
     },
     "execution_count": 15,
     "metadata": {},
     "output_type": "execute_result"
    }
   ],
   "source": [
    "# RMSE\n",
    "mean_squared_error(train['quality'],\n",
    "                   train['baseline_pred'],\n",
    "                   squared=False)"
   ]
  },
  {
   "cell_type": "code",
   "execution_count": 16,
   "id": "901468a9",
   "metadata": {},
   "outputs": [
    {
     "data": {
      "text/plain": [
       "0.0"
      ]
     },
     "execution_count": 16,
     "metadata": {},
     "output_type": "execute_result"
    }
   ],
   "source": [
    "# R2\n",
    "r2_score(train['quality'],\n",
    "                   train['baseline_pred'])"
   ]
  },
  {
   "cell_type": "markdown",
   "id": "9ec870c9",
   "metadata": {},
   "source": [
    "**Linear Regression Model**"
   ]
  },
  {
   "cell_type": "code",
   "execution_count": 17,
   "id": "3e3fcd22",
   "metadata": {},
   "outputs": [],
   "source": [
    "lm = LinearRegression().fit(X_train_scaled, y_train)"
   ]
  },
  {
   "cell_type": "code",
   "execution_count": 18,
   "id": "16f0b245",
   "metadata": {},
   "outputs": [],
   "source": [
    "train['lm_pred'] = lm.predict(X_train_scaled)"
   ]
  },
  {
   "cell_type": "markdown",
   "id": "88eb4a25",
   "metadata": {},
   "source": [
    "Evaluate"
   ]
  },
  {
   "cell_type": "code",
   "execution_count": 19,
   "id": "8ef26f11",
   "metadata": {},
   "outputs": [
    {
     "data": {
      "text/plain": [
       "0.7564477570865422"
      ]
     },
     "execution_count": 19,
     "metadata": {},
     "output_type": "execute_result"
    }
   ],
   "source": [
    "# RMSE\n",
    "mean_squared_error(train['quality'],\n",
    "                   train['lm_pred'],\n",
    "                   squared=False)"
   ]
  },
  {
   "cell_type": "code",
   "execution_count": 20,
   "id": "4f7bd8d8",
   "metadata": {},
   "outputs": [
    {
     "data": {
      "text/plain": [
       "0.2725561981288629"
      ]
     },
     "execution_count": 20,
     "metadata": {},
     "output_type": "execute_result"
    }
   ],
   "source": [
    "# R2\n",
    "r2_score(train['quality'],\n",
    "                   train['lm_pred'])"
   ]
  },
  {
   "cell_type": "code",
   "execution_count": 21,
   "id": "64284f9a",
   "metadata": {},
   "outputs": [
    {
     "data": {
      "text/html": [
       "<div>\n",
       "<style scoped>\n",
       "    .dataframe tbody tr th:only-of-type {\n",
       "        vertical-align: middle;\n",
       "    }\n",
       "\n",
       "    .dataframe tbody tr th {\n",
       "        vertical-align: top;\n",
       "    }\n",
       "\n",
       "    .dataframe thead th {\n",
       "        text-align: right;\n",
       "    }\n",
       "</style>\n",
       "<table border=\"1\" class=\"dataframe\">\n",
       "  <thead>\n",
       "    <tr style=\"text-align: right;\">\n",
       "      <th></th>\n",
       "      <th>coefficients</th>\n",
       "    </tr>\n",
       "  </thead>\n",
       "  <tbody>\n",
       "    <tr>\n",
       "      <th>alcohol</th>\n",
       "      <td>0.338070</td>\n",
       "    </tr>\n",
       "    <tr>\n",
       "      <th>volatile acidity</th>\n",
       "      <td>-1.259275</td>\n",
       "    </tr>\n",
       "    <tr>\n",
       "      <th>chlorides</th>\n",
       "      <td>0.333208</td>\n",
       "    </tr>\n",
       "    <tr>\n",
       "      <th>intercept</th>\n",
       "      <td>5.255723</td>\n",
       "    </tr>\n",
       "  </tbody>\n",
       "</table>\n",
       "</div>"
      ],
      "text/plain": [
       "                  coefficients\n",
       "alcohol               0.338070\n",
       "volatile acidity     -1.259275\n",
       "chlorides             0.333208\n",
       "intercept             5.255723"
      ]
     },
     "execution_count": 21,
     "metadata": {},
     "output_type": "execute_result"
    }
   ],
   "source": [
    "pd.DataFrame(index=list(X_train.columns) + ['intercept'],\n",
    "             columns=['coefficients'],\n",
    "             data=np.append(lm.coef_ * scaler.scale_, lm.intercept_))"
   ]
  },
  {
   "cell_type": "code",
   "execution_count": 22,
   "id": "20144daf",
   "metadata": {},
   "outputs": [
    {
     "data": {
      "text/html": [
       "<div>\n",
       "<style scoped>\n",
       "    .dataframe tbody tr th:only-of-type {\n",
       "        vertical-align: middle;\n",
       "    }\n",
       "\n",
       "    .dataframe tbody tr th {\n",
       "        vertical-align: top;\n",
       "    }\n",
       "\n",
       "    .dataframe thead th {\n",
       "        text-align: right;\n",
       "    }\n",
       "</style>\n",
       "<table border=\"1\" class=\"dataframe\">\n",
       "  <thead>\n",
       "    <tr style=\"text-align: right;\">\n",
       "      <th></th>\n",
       "      <th>alcohol</th>\n",
       "      <th>volatile acidity</th>\n",
       "      <th>chlorides</th>\n",
       "      <th>quality</th>\n",
       "      <th>baseline_pred</th>\n",
       "      <th>lm_pred</th>\n",
       "    </tr>\n",
       "  </thead>\n",
       "  <tbody>\n",
       "    <tr>\n",
       "      <th>1179</th>\n",
       "      <td>11.0</td>\n",
       "      <td>0.64</td>\n",
       "      <td>0.094</td>\n",
       "      <td>5</td>\n",
       "      <td>5.8029</td>\n",
       "      <td>5.592061</td>\n",
       "    </tr>\n",
       "    <tr>\n",
       "      <th>3674</th>\n",
       "      <td>12.1</td>\n",
       "      <td>0.26</td>\n",
       "      <td>0.025</td>\n",
       "      <td>7</td>\n",
       "      <td>5.8029</td>\n",
       "      <td>6.419471</td>\n",
       "    </tr>\n",
       "    <tr>\n",
       "      <th>1590</th>\n",
       "      <td>9.5</td>\n",
       "      <td>0.29</td>\n",
       "      <td>0.046</td>\n",
       "      <td>5</td>\n",
       "      <td>5.8029</td>\n",
       "      <td>5.509709</td>\n",
       "    </tr>\n",
       "    <tr>\n",
       "      <th>2743</th>\n",
       "      <td>10.1</td>\n",
       "      <td>0.22</td>\n",
       "      <td>0.054</td>\n",
       "      <td>6</td>\n",
       "      <td>5.8029</td>\n",
       "      <td>5.803366</td>\n",
       "    </tr>\n",
       "    <tr>\n",
       "      <th>1659</th>\n",
       "      <td>11.9</td>\n",
       "      <td>0.33</td>\n",
       "      <td>0.038</td>\n",
       "      <td>7</td>\n",
       "      <td>5.8029</td>\n",
       "      <td>6.268040</td>\n",
       "    </tr>\n",
       "    <tr>\n",
       "      <th>...</th>\n",
       "      <td>...</td>\n",
       "      <td>...</td>\n",
       "      <td>...</td>\n",
       "      <td>...</td>\n",
       "      <td>...</td>\n",
       "      <td>...</td>\n",
       "    </tr>\n",
       "    <tr>\n",
       "      <th>1376</th>\n",
       "      <td>10.5</td>\n",
       "      <td>0.26</td>\n",
       "      <td>0.049</td>\n",
       "      <td>8</td>\n",
       "      <td>5.8029</td>\n",
       "      <td>5.886557</td>\n",
       "    </tr>\n",
       "    <tr>\n",
       "      <th>2341</th>\n",
       "      <td>9.4</td>\n",
       "      <td>0.26</td>\n",
       "      <td>0.201</td>\n",
       "      <td>6</td>\n",
       "      <td>5.8029</td>\n",
       "      <td>5.565327</td>\n",
       "    </tr>\n",
       "    <tr>\n",
       "      <th>1978</th>\n",
       "      <td>9.1</td>\n",
       "      <td>0.25</td>\n",
       "      <td>0.052</td>\n",
       "      <td>6</td>\n",
       "      <td>5.8029</td>\n",
       "      <td>5.426851</td>\n",
       "    </tr>\n",
       "    <tr>\n",
       "      <th>684</th>\n",
       "      <td>9.7</td>\n",
       "      <td>0.61</td>\n",
       "      <td>0.081</td>\n",
       "      <td>6</td>\n",
       "      <td>5.8029</td>\n",
       "      <td>5.186017</td>\n",
       "    </tr>\n",
       "    <tr>\n",
       "      <th>2607</th>\n",
       "      <td>10.1</td>\n",
       "      <td>0.25</td>\n",
       "      <td>0.048</td>\n",
       "      <td>6</td>\n",
       "      <td>5.8029</td>\n",
       "      <td>5.763588</td>\n",
       "    </tr>\n",
       "  </tbody>\n",
       "</table>\n",
       "<p>3724 rows × 6 columns</p>\n",
       "</div>"
      ],
      "text/plain": [
       "      alcohol  volatile acidity  chlorides  quality  baseline_pred   lm_pred\n",
       "1179     11.0              0.64      0.094        5         5.8029  5.592061\n",
       "3674     12.1              0.26      0.025        7         5.8029  6.419471\n",
       "1590      9.5              0.29      0.046        5         5.8029  5.509709\n",
       "2743     10.1              0.22      0.054        6         5.8029  5.803366\n",
       "1659     11.9              0.33      0.038        7         5.8029  6.268040\n",
       "...       ...               ...        ...      ...            ...       ...\n",
       "1376     10.5              0.26      0.049        8         5.8029  5.886557\n",
       "2341      9.4              0.26      0.201        6         5.8029  5.565327\n",
       "1978      9.1              0.25      0.052        6         5.8029  5.426851\n",
       "684       9.7              0.61      0.081        6         5.8029  5.186017\n",
       "2607     10.1              0.25      0.048        6         5.8029  5.763588\n",
       "\n",
       "[3724 rows x 6 columns]"
      ]
     },
     "execution_count": 22,
     "metadata": {},
     "output_type": "execute_result"
    }
   ],
   "source": [
    "train"
   ]
  },
  {
   "cell_type": "markdown",
   "id": "6d2a67c0",
   "metadata": {},
   "source": [
    "Our model starts its prediction at 5.26 and:\n",
    "- adds .33 for every 1 unit of alcohol\n",
    "- subtracts -1.25 for every .1 units of volatile acidity\n",
    "- adds .03 for every .1 for every .1 units of chorides"
   ]
  },
  {
   "cell_type": "markdown",
   "id": "37768907",
   "metadata": {},
   "source": [
    "## Preprocessing after Clustering\n",
    "\n",
    "Features: `['alcohol', 'volatile acidity', 'chlorides']`\n",
    "\n",
    "Scale features:\n",
    "- MinMax\n",
    "\n",
    "Before scaling, split data"
   ]
  },
  {
   "cell_type": "code",
   "execution_count": 5,
   "id": "c5e8ec80",
   "metadata": {},
   "outputs": [],
   "source": [
    "df = pd.read_csv('wine_data.csv') \n",
    "\n"
   ]
  },
  {
   "cell_type": "code",
   "execution_count": 6,
   "id": "36942784",
   "metadata": {},
   "outputs": [],
   "source": [
    "features = ['alcohol', 'volatile acidity', 'chlorides']\n",
    "target = ['quality']\n",
    "\n",
    "train, validate, test = split_data(df[features + target + ['color']],\n",
    "                                   validate_size=.15, test_size=.15, \n",
    "                                   stratify_col='color', random_state=123)\n",
    "\n",
    "# drop color column\n",
    "train = train.iloc[:,:-1]\n",
    "validate = validate.iloc[:,:-1]\n",
    "test = test.iloc[:,:-1]"
   ]
  },
  {
   "cell_type": "code",
   "execution_count": 8,
   "id": "c877b429",
   "metadata": {},
   "outputs": [
    {
     "name": "stdout",
     "output_type": "stream",
     "text": [
      "3724 798 798\n"
     ]
    },
    {
     "data": {
      "text/html": [
       "<div>\n",
       "<style scoped>\n",
       "    .dataframe tbody tr th:only-of-type {\n",
       "        vertical-align: middle;\n",
       "    }\n",
       "\n",
       "    .dataframe tbody tr th {\n",
       "        vertical-align: top;\n",
       "    }\n",
       "\n",
       "    .dataframe thead th {\n",
       "        text-align: right;\n",
       "    }\n",
       "</style>\n",
       "<table border=\"1\" class=\"dataframe\">\n",
       "  <thead>\n",
       "    <tr style=\"text-align: right;\">\n",
       "      <th></th>\n",
       "      <th>alcohol</th>\n",
       "      <th>volatile acidity</th>\n",
       "      <th>chlorides</th>\n",
       "      <th>quality</th>\n",
       "    </tr>\n",
       "  </thead>\n",
       "  <tbody>\n",
       "    <tr>\n",
       "      <th>1179</th>\n",
       "      <td>11.0</td>\n",
       "      <td>0.64</td>\n",
       "      <td>0.094</td>\n",
       "      <td>5</td>\n",
       "    </tr>\n",
       "    <tr>\n",
       "      <th>3674</th>\n",
       "      <td>12.1</td>\n",
       "      <td>0.26</td>\n",
       "      <td>0.025</td>\n",
       "      <td>7</td>\n",
       "    </tr>\n",
       "    <tr>\n",
       "      <th>1590</th>\n",
       "      <td>9.5</td>\n",
       "      <td>0.29</td>\n",
       "      <td>0.046</td>\n",
       "      <td>5</td>\n",
       "    </tr>\n",
       "    <tr>\n",
       "      <th>2743</th>\n",
       "      <td>10.1</td>\n",
       "      <td>0.22</td>\n",
       "      <td>0.054</td>\n",
       "      <td>6</td>\n",
       "    </tr>\n",
       "    <tr>\n",
       "      <th>1659</th>\n",
       "      <td>11.9</td>\n",
       "      <td>0.33</td>\n",
       "      <td>0.038</td>\n",
       "      <td>7</td>\n",
       "    </tr>\n",
       "  </tbody>\n",
       "</table>\n",
       "</div>"
      ],
      "text/plain": [
       "      alcohol  volatile acidity  chlorides  quality\n",
       "1179     11.0              0.64      0.094        5\n",
       "3674     12.1              0.26      0.025        7\n",
       "1590      9.5              0.29      0.046        5\n",
       "2743     10.1              0.22      0.054        6\n",
       "1659     11.9              0.33      0.038        7"
      ]
     },
     "execution_count": 8,
     "metadata": {},
     "output_type": "execute_result"
    }
   ],
   "source": [
    "print(len(train), len(validate), len(test))\n",
    "train.head()"
   ]
  },
  {
   "cell_type": "code",
   "execution_count": 9,
   "id": "503b8c86",
   "metadata": {},
   "outputs": [],
   "source": [
    "# remove target\n",
    "X_train = train[features]\n",
    "X_validate = validate[features]\n",
    "X_test = test[features]\n",
    "\n",
    "# only add target\n",
    "y_train = train[target]\n",
    "y_vaildate = validate[target]\n",
    "y_test = test[target]"
   ]
  },
  {
   "cell_type": "code",
   "execution_count": 10,
   "id": "01ed7efc",
   "metadata": {},
   "outputs": [],
   "source": [
    "scaler = MinMaxScaler()\n",
    "\n",
    "X_train_scaled = scaler.fit_transform(X_train)\n",
    "X_validate_scaled = scaler.transform(X_validate)\n",
    "X_test_scaled = scaler.transform(X_test)"
   ]
  },
  {
   "cell_type": "markdown",
   "id": "4f70607a",
   "metadata": {},
   "source": [
    "## Modeling after Clustering"
   ]
  },
  {
   "cell_type": "markdown",
   "id": "7e822780",
   "metadata": {},
   "source": [
    "**Baseline Model**"
   ]
  },
  {
   "cell_type": "code",
   "execution_count": 12,
   "id": "4362c1f0",
   "metadata": {},
   "outputs": [],
   "source": [
    "dummy = DummyRegressor().fit(X_train_scaled, y_train)"
   ]
  },
  {
   "cell_type": "code",
   "execution_count": 13,
   "id": "bf845d0f",
   "metadata": {},
   "outputs": [],
   "source": [
    "train['baseline_pred'] = dummy.predict(X_train_scaled)"
   ]
  },
  {
   "cell_type": "code",
   "execution_count": 14,
   "id": "2c216c0c",
   "metadata": {},
   "outputs": [
    {
     "data": {
      "text/html": [
       "<div>\n",
       "<style scoped>\n",
       "    .dataframe tbody tr th:only-of-type {\n",
       "        vertical-align: middle;\n",
       "    }\n",
       "\n",
       "    .dataframe tbody tr th {\n",
       "        vertical-align: top;\n",
       "    }\n",
       "\n",
       "    .dataframe thead th {\n",
       "        text-align: right;\n",
       "    }\n",
       "</style>\n",
       "<table border=\"1\" class=\"dataframe\">\n",
       "  <thead>\n",
       "    <tr style=\"text-align: right;\">\n",
       "      <th></th>\n",
       "      <th>alcohol</th>\n",
       "      <th>volatile acidity</th>\n",
       "      <th>chlorides</th>\n",
       "      <th>quality</th>\n",
       "      <th>baseline_pred</th>\n",
       "    </tr>\n",
       "  </thead>\n",
       "  <tbody>\n",
       "    <tr>\n",
       "      <th>1179</th>\n",
       "      <td>11.0</td>\n",
       "      <td>0.64</td>\n",
       "      <td>0.094</td>\n",
       "      <td>5</td>\n",
       "      <td>5.8029</td>\n",
       "    </tr>\n",
       "    <tr>\n",
       "      <th>3674</th>\n",
       "      <td>12.1</td>\n",
       "      <td>0.26</td>\n",
       "      <td>0.025</td>\n",
       "      <td>7</td>\n",
       "      <td>5.8029</td>\n",
       "    </tr>\n",
       "    <tr>\n",
       "      <th>1590</th>\n",
       "      <td>9.5</td>\n",
       "      <td>0.29</td>\n",
       "      <td>0.046</td>\n",
       "      <td>5</td>\n",
       "      <td>5.8029</td>\n",
       "    </tr>\n",
       "    <tr>\n",
       "      <th>2743</th>\n",
       "      <td>10.1</td>\n",
       "      <td>0.22</td>\n",
       "      <td>0.054</td>\n",
       "      <td>6</td>\n",
       "      <td>5.8029</td>\n",
       "    </tr>\n",
       "    <tr>\n",
       "      <th>1659</th>\n",
       "      <td>11.9</td>\n",
       "      <td>0.33</td>\n",
       "      <td>0.038</td>\n",
       "      <td>7</td>\n",
       "      <td>5.8029</td>\n",
       "    </tr>\n",
       "  </tbody>\n",
       "</table>\n",
       "</div>"
      ],
      "text/plain": [
       "      alcohol  volatile acidity  chlorides  quality  baseline_pred\n",
       "1179     11.0              0.64      0.094        5         5.8029\n",
       "3674     12.1              0.26      0.025        7         5.8029\n",
       "1590      9.5              0.29      0.046        5         5.8029\n",
       "2743     10.1              0.22      0.054        6         5.8029\n",
       "1659     11.9              0.33      0.038        7         5.8029"
      ]
     },
     "execution_count": 14,
     "metadata": {},
     "output_type": "execute_result"
    }
   ],
   "source": [
    "train.head()"
   ]
  },
  {
   "cell_type": "markdown",
   "id": "35f66f9c",
   "metadata": {},
   "source": [
    "Evaluate"
   ]
  },
  {
   "cell_type": "code",
   "execution_count": 15,
   "id": "f0c733b4",
   "metadata": {},
   "outputs": [
    {
     "data": {
      "text/plain": [
       "0.886909313701455"
      ]
     },
     "execution_count": 15,
     "metadata": {},
     "output_type": "execute_result"
    }
   ],
   "source": [
    "# RMSE\n",
    "mean_squared_error(train['quality'],\n",
    "                   train['baseline_pred'],\n",
    "                   squared=False)"
   ]
  },
  {
   "cell_type": "code",
   "execution_count": 16,
   "id": "b45ff755",
   "metadata": {},
   "outputs": [
    {
     "data": {
      "text/plain": [
       "0.0"
      ]
     },
     "execution_count": 16,
     "metadata": {},
     "output_type": "execute_result"
    }
   ],
   "source": [
    "# R2\n",
    "r2_score(train['quality'],\n",
    "                   train['baseline_pred'])"
   ]
  },
  {
   "cell_type": "markdown",
   "id": "b1e0a35f",
   "metadata": {},
   "source": [
    "**Linear Regression Model**"
   ]
  },
  {
   "cell_type": "code",
   "execution_count": 17,
   "id": "c42c100f",
   "metadata": {},
   "outputs": [],
   "source": [
    "lm = LinearRegression().fit(X_train_scaled, y_train)"
   ]
  },
  {
   "cell_type": "code",
   "execution_count": 18,
   "id": "e9ca742b",
   "metadata": {},
   "outputs": [],
   "source": [
    "train['lm_pred'] = lm.predict(X_train_scaled)"
   ]
  },
  {
   "cell_type": "markdown",
   "id": "fc0d9d0c",
   "metadata": {},
   "source": [
    "Evaluate"
   ]
  },
  {
   "cell_type": "code",
   "execution_count": 19,
   "id": "fa862c67",
   "metadata": {},
   "outputs": [
    {
     "data": {
      "text/plain": [
       "0.7564477570865422"
      ]
     },
     "execution_count": 19,
     "metadata": {},
     "output_type": "execute_result"
    }
   ],
   "source": [
    "# RMSE\n",
    "mean_squared_error(train['quality'],\n",
    "                   train['lm_pred'],\n",
    "                   squared=False)"
   ]
  },
  {
   "cell_type": "code",
   "execution_count": 20,
   "id": "95869bb9",
   "metadata": {},
   "outputs": [
    {
     "data": {
      "text/plain": [
       "0.2725561981288629"
      ]
     },
     "execution_count": 20,
     "metadata": {},
     "output_type": "execute_result"
    }
   ],
   "source": [
    "# R2\n",
    "r2_score(train['quality'],\n",
    "                   train['lm_pred'])"
   ]
  },
  {
   "cell_type": "code",
   "execution_count": 21,
   "id": "324bf646",
   "metadata": {},
   "outputs": [
    {
     "data": {
      "text/html": [
       "<div>\n",
       "<style scoped>\n",
       "    .dataframe tbody tr th:only-of-type {\n",
       "        vertical-align: middle;\n",
       "    }\n",
       "\n",
       "    .dataframe tbody tr th {\n",
       "        vertical-align: top;\n",
       "    }\n",
       "\n",
       "    .dataframe thead th {\n",
       "        text-align: right;\n",
       "    }\n",
       "</style>\n",
       "<table border=\"1\" class=\"dataframe\">\n",
       "  <thead>\n",
       "    <tr style=\"text-align: right;\">\n",
       "      <th></th>\n",
       "      <th>coefficients</th>\n",
       "    </tr>\n",
       "  </thead>\n",
       "  <tbody>\n",
       "    <tr>\n",
       "      <th>alcohol</th>\n",
       "      <td>0.338070</td>\n",
       "    </tr>\n",
       "    <tr>\n",
       "      <th>volatile acidity</th>\n",
       "      <td>-1.259275</td>\n",
       "    </tr>\n",
       "    <tr>\n",
       "      <th>chlorides</th>\n",
       "      <td>0.333208</td>\n",
       "    </tr>\n",
       "    <tr>\n",
       "      <th>intercept</th>\n",
       "      <td>5.255723</td>\n",
       "    </tr>\n",
       "  </tbody>\n",
       "</table>\n",
       "</div>"
      ],
      "text/plain": [
       "                  coefficients\n",
       "alcohol               0.338070\n",
       "volatile acidity     -1.259275\n",
       "chlorides             0.333208\n",
       "intercept             5.255723"
      ]
     },
     "execution_count": 21,
     "metadata": {},
     "output_type": "execute_result"
    }
   ],
   "source": [
    "pd.DataFrame(index=list(X_train.columns) + ['intercept'],\n",
    "             columns=['coefficients'],\n",
    "             data=np.append(lm.coef_ * scaler.scale_, lm.intercept_))"
   ]
  },
  {
   "cell_type": "code",
   "execution_count": 22,
   "id": "ca6bb4ad",
   "metadata": {},
   "outputs": [
    {
     "data": {
      "text/html": [
       "<div>\n",
       "<style scoped>\n",
       "    .dataframe tbody tr th:only-of-type {\n",
       "        vertical-align: middle;\n",
       "    }\n",
       "\n",
       "    .dataframe tbody tr th {\n",
       "        vertical-align: top;\n",
       "    }\n",
       "\n",
       "    .dataframe thead th {\n",
       "        text-align: right;\n",
       "    }\n",
       "</style>\n",
       "<table border=\"1\" class=\"dataframe\">\n",
       "  <thead>\n",
       "    <tr style=\"text-align: right;\">\n",
       "      <th></th>\n",
       "      <th>alcohol</th>\n",
       "      <th>volatile acidity</th>\n",
       "      <th>chlorides</th>\n",
       "      <th>quality</th>\n",
       "      <th>baseline_pred</th>\n",
       "      <th>lm_pred</th>\n",
       "    </tr>\n",
       "  </thead>\n",
       "  <tbody>\n",
       "    <tr>\n",
       "      <th>1179</th>\n",
       "      <td>11.0</td>\n",
       "      <td>0.64</td>\n",
       "      <td>0.094</td>\n",
       "      <td>5</td>\n",
       "      <td>5.8029</td>\n",
       "      <td>5.592061</td>\n",
       "    </tr>\n",
       "    <tr>\n",
       "      <th>3674</th>\n",
       "      <td>12.1</td>\n",
       "      <td>0.26</td>\n",
       "      <td>0.025</td>\n",
       "      <td>7</td>\n",
       "      <td>5.8029</td>\n",
       "      <td>6.419471</td>\n",
       "    </tr>\n",
       "    <tr>\n",
       "      <th>1590</th>\n",
       "      <td>9.5</td>\n",
       "      <td>0.29</td>\n",
       "      <td>0.046</td>\n",
       "      <td>5</td>\n",
       "      <td>5.8029</td>\n",
       "      <td>5.509709</td>\n",
       "    </tr>\n",
       "    <tr>\n",
       "      <th>2743</th>\n",
       "      <td>10.1</td>\n",
       "      <td>0.22</td>\n",
       "      <td>0.054</td>\n",
       "      <td>6</td>\n",
       "      <td>5.8029</td>\n",
       "      <td>5.803366</td>\n",
       "    </tr>\n",
       "    <tr>\n",
       "      <th>1659</th>\n",
       "      <td>11.9</td>\n",
       "      <td>0.33</td>\n",
       "      <td>0.038</td>\n",
       "      <td>7</td>\n",
       "      <td>5.8029</td>\n",
       "      <td>6.268040</td>\n",
       "    </tr>\n",
       "    <tr>\n",
       "      <th>...</th>\n",
       "      <td>...</td>\n",
       "      <td>...</td>\n",
       "      <td>...</td>\n",
       "      <td>...</td>\n",
       "      <td>...</td>\n",
       "      <td>...</td>\n",
       "    </tr>\n",
       "    <tr>\n",
       "      <th>1376</th>\n",
       "      <td>10.5</td>\n",
       "      <td>0.26</td>\n",
       "      <td>0.049</td>\n",
       "      <td>8</td>\n",
       "      <td>5.8029</td>\n",
       "      <td>5.886557</td>\n",
       "    </tr>\n",
       "    <tr>\n",
       "      <th>2341</th>\n",
       "      <td>9.4</td>\n",
       "      <td>0.26</td>\n",
       "      <td>0.201</td>\n",
       "      <td>6</td>\n",
       "      <td>5.8029</td>\n",
       "      <td>5.565327</td>\n",
       "    </tr>\n",
       "    <tr>\n",
       "      <th>1978</th>\n",
       "      <td>9.1</td>\n",
       "      <td>0.25</td>\n",
       "      <td>0.052</td>\n",
       "      <td>6</td>\n",
       "      <td>5.8029</td>\n",
       "      <td>5.426851</td>\n",
       "    </tr>\n",
       "    <tr>\n",
       "      <th>684</th>\n",
       "      <td>9.7</td>\n",
       "      <td>0.61</td>\n",
       "      <td>0.081</td>\n",
       "      <td>6</td>\n",
       "      <td>5.8029</td>\n",
       "      <td>5.186017</td>\n",
       "    </tr>\n",
       "    <tr>\n",
       "      <th>2607</th>\n",
       "      <td>10.1</td>\n",
       "      <td>0.25</td>\n",
       "      <td>0.048</td>\n",
       "      <td>6</td>\n",
       "      <td>5.8029</td>\n",
       "      <td>5.763588</td>\n",
       "    </tr>\n",
       "  </tbody>\n",
       "</table>\n",
       "<p>3724 rows × 6 columns</p>\n",
       "</div>"
      ],
      "text/plain": [
       "      alcohol  volatile acidity  chlorides  quality  baseline_pred   lm_pred\n",
       "1179     11.0              0.64      0.094        5         5.8029  5.592061\n",
       "3674     12.1              0.26      0.025        7         5.8029  6.419471\n",
       "1590      9.5              0.29      0.046        5         5.8029  5.509709\n",
       "2743     10.1              0.22      0.054        6         5.8029  5.803366\n",
       "1659     11.9              0.33      0.038        7         5.8029  6.268040\n",
       "...       ...               ...        ...      ...            ...       ...\n",
       "1376     10.5              0.26      0.049        8         5.8029  5.886557\n",
       "2341      9.4              0.26      0.201        6         5.8029  5.565327\n",
       "1978      9.1              0.25      0.052        6         5.8029  5.426851\n",
       "684       9.7              0.61      0.081        6         5.8029  5.186017\n",
       "2607     10.1              0.25      0.048        6         5.8029  5.763588\n",
       "\n",
       "[3724 rows x 6 columns]"
      ]
     },
     "execution_count": 22,
     "metadata": {},
     "output_type": "execute_result"
    }
   ],
   "source": [
    "train"
   ]
  },
  {
   "cell_type": "markdown",
   "id": "a2a648e5",
   "metadata": {},
   "source": [
    "Our model starts its prediction at 5.26 and:\n",
    "- adds .33 for every 1 unit of alcohol\n",
    "- subtracts -1.25 for every .1 units of volatile acidity\n",
    "- adds .03 for every .1 for every .1 units of chorides"
   ]
  },
  {
   "cell_type": "code",
   "execution_count": null,
   "id": "ffb75b13",
   "metadata": {},
   "outputs": [],
   "source": []
  },
  {
   "cell_type": "code",
   "execution_count": null,
   "id": "991db9f3",
   "metadata": {},
   "outputs": [],
   "source": []
  }
 ],
 "metadata": {
  "kernelspec": {
   "display_name": "Python 3 (ipykernel)",
   "language": "python",
   "name": "python3"
  },
  "language_info": {
   "codemirror_mode": {
    "name": "ipython",
    "version": 3
   },
   "file_extension": ".py",
   "mimetype": "text/x-python",
   "name": "python",
   "nbconvert_exporter": "python",
   "pygments_lexer": "ipython3",
   "version": "3.10.9"
  },
  "varInspector": {
   "cols": {
    "lenName": 16,
    "lenType": 16,
    "lenVar": 40
   },
   "kernels_config": {
    "python": {
     "delete_cmd_postfix": "",
     "delete_cmd_prefix": "del ",
     "library": "var_list.py",
     "varRefreshCmd": "print(var_dic_list())"
    },
    "r": {
     "delete_cmd_postfix": ") ",
     "delete_cmd_prefix": "rm(",
     "library": "var_list.r",
     "varRefreshCmd": "cat(var_dic_list()) "
    }
   },
   "types_to_exclude": [
    "module",
    "function",
    "builtin_function_or_method",
    "instance",
    "_Feature"
   ],
   "window_display": false
  }
 },
 "nbformat": 4,
 "nbformat_minor": 5
}
