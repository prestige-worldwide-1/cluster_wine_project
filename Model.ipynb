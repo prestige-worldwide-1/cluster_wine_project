{
 "cells": [
  {
   "cell_type": "markdown",
   "id": "f18c3760",
   "metadata": {},
   "source": [
    "# Model\n",
    "\n",
    "Plan:\n",
    "\n",
    "- Develop a model to predict quality\n",
    "- Use drivers identified in explore to build predictive regression models\n",
    "- Create and run a baseline model with sklearn's `DummyRegressor` to compare our results to\n",
    "- Create and run models with and without clusters\n",
    "- Use the insights from the highest-performing model (with highest test RMSE) to confirm our initial hypotheses and insights on the features that are the biggest drivers of property value"
   ]
  },
  {
   "cell_type": "code",
   "execution_count": 1,
   "id": "a4d0d7c3",
   "metadata": {},
   "outputs": [],
   "source": [
    "import pandas as pd\n",
    "import numpy as np\n",
    "\n",
    "from sklearn.preprocessing import PolynomialFeatures\n",
    "\n",
    "from sklearn.dummy import DummyRegressor\n",
    "from sklearn.linear_model import LinearRegression, LassoLars\n",
    "\n",
    "from sklearn.metrics import mean_squared_error, r2_score\n",
    "\n",
    "from sklearn.preprocessing import MinMaxScaler\n",
    "\n",
    "from sklearn.cluster import KMeans\n",
    "\n",
    "from wrangle import split_data\n",
    "\n",
    "import wrangle as w"
   ]
  },
  {
   "cell_type": "markdown",
   "id": "b3cb6917",
   "metadata": {},
   "source": [
    "## Preprocessing before Clustering\n",
    "\n",
    "Features: `['alcohol', 'volatile acidity', 'chlorides']`\n",
    "\n",
    "Encode Clusters\n",
    "\n",
    "Scale features:\n",
    "- MinMax\n",
    "\n",
    "Before scaling, split data"
   ]
  },
  {
   "cell_type": "code",
   "execution_count": 2,
   "id": "07e783f5",
   "metadata": {
    "scrolled": true
   },
   "outputs": [
    {
     "data": {
      "text/html": [
       "<div>\n",
       "<style scoped>\n",
       "    .dataframe tbody tr th:only-of-type {\n",
       "        vertical-align: middle;\n",
       "    }\n",
       "\n",
       "    .dataframe tbody tr th {\n",
       "        vertical-align: top;\n",
       "    }\n",
       "\n",
       "    .dataframe thead th {\n",
       "        text-align: right;\n",
       "    }\n",
       "</style>\n",
       "<table border=\"1\" class=\"dataframe\">\n",
       "  <thead>\n",
       "    <tr style=\"text-align: right;\">\n",
       "      <th></th>\n",
       "      <th>fixed acidity</th>\n",
       "      <th>volatile acidity</th>\n",
       "      <th>citric acid</th>\n",
       "      <th>residual sugar</th>\n",
       "      <th>chlorides</th>\n",
       "      <th>free sulfur dioxide</th>\n",
       "      <th>total sulfur dioxide</th>\n",
       "      <th>density</th>\n",
       "      <th>pH</th>\n",
       "      <th>sulphates</th>\n",
       "      <th>alcohol</th>\n",
       "      <th>quality</th>\n",
       "      <th>red</th>\n",
       "    </tr>\n",
       "  </thead>\n",
       "  <tbody>\n",
       "    <tr>\n",
       "      <th>0</th>\n",
       "      <td>7.4</td>\n",
       "      <td>0.70</td>\n",
       "      <td>0.00</td>\n",
       "      <td>1.9</td>\n",
       "      <td>0.076</td>\n",
       "      <td>11.0</td>\n",
       "      <td>34.0</td>\n",
       "      <td>0.9978</td>\n",
       "      <td>3.51</td>\n",
       "      <td>0.56</td>\n",
       "      <td>9.4</td>\n",
       "      <td>5</td>\n",
       "      <td>1</td>\n",
       "    </tr>\n",
       "    <tr>\n",
       "      <th>1</th>\n",
       "      <td>7.8</td>\n",
       "      <td>0.88</td>\n",
       "      <td>0.00</td>\n",
       "      <td>2.6</td>\n",
       "      <td>0.098</td>\n",
       "      <td>25.0</td>\n",
       "      <td>67.0</td>\n",
       "      <td>0.9968</td>\n",
       "      <td>3.20</td>\n",
       "      <td>0.68</td>\n",
       "      <td>9.8</td>\n",
       "      <td>5</td>\n",
       "      <td>1</td>\n",
       "    </tr>\n",
       "    <tr>\n",
       "      <th>2</th>\n",
       "      <td>7.8</td>\n",
       "      <td>0.76</td>\n",
       "      <td>0.04</td>\n",
       "      <td>2.3</td>\n",
       "      <td>0.092</td>\n",
       "      <td>15.0</td>\n",
       "      <td>54.0</td>\n",
       "      <td>0.9970</td>\n",
       "      <td>3.26</td>\n",
       "      <td>0.65</td>\n",
       "      <td>9.8</td>\n",
       "      <td>5</td>\n",
       "      <td>1</td>\n",
       "    </tr>\n",
       "    <tr>\n",
       "      <th>3</th>\n",
       "      <td>11.2</td>\n",
       "      <td>0.28</td>\n",
       "      <td>0.56</td>\n",
       "      <td>1.9</td>\n",
       "      <td>0.075</td>\n",
       "      <td>17.0</td>\n",
       "      <td>60.0</td>\n",
       "      <td>0.9980</td>\n",
       "      <td>3.16</td>\n",
       "      <td>0.58</td>\n",
       "      <td>9.8</td>\n",
       "      <td>6</td>\n",
       "      <td>1</td>\n",
       "    </tr>\n",
       "    <tr>\n",
       "      <th>5</th>\n",
       "      <td>7.4</td>\n",
       "      <td>0.66</td>\n",
       "      <td>0.00</td>\n",
       "      <td>1.8</td>\n",
       "      <td>0.075</td>\n",
       "      <td>13.0</td>\n",
       "      <td>40.0</td>\n",
       "      <td>0.9978</td>\n",
       "      <td>3.51</td>\n",
       "      <td>0.56</td>\n",
       "      <td>9.4</td>\n",
       "      <td>5</td>\n",
       "      <td>1</td>\n",
       "    </tr>\n",
       "  </tbody>\n",
       "</table>\n",
       "</div>"
      ],
      "text/plain": [
       "   fixed acidity  volatile acidity  citric acid  residual sugar  chlorides  \\\n",
       "0            7.4              0.70         0.00             1.9      0.076   \n",
       "1            7.8              0.88         0.00             2.6      0.098   \n",
       "2            7.8              0.76         0.04             2.3      0.092   \n",
       "3           11.2              0.28         0.56             1.9      0.075   \n",
       "5            7.4              0.66         0.00             1.8      0.075   \n",
       "\n",
       "   free sulfur dioxide  total sulfur dioxide  density    pH  sulphates  \\\n",
       "0                 11.0                  34.0   0.9978  3.51       0.56   \n",
       "1                 25.0                  67.0   0.9968  3.20       0.68   \n",
       "2                 15.0                  54.0   0.9970  3.26       0.65   \n",
       "3                 17.0                  60.0   0.9980  3.16       0.58   \n",
       "5                 13.0                  40.0   0.9978  3.51       0.56   \n",
       "\n",
       "   alcohol  quality  red  \n",
       "0      9.4        5    1  \n",
       "1      9.8        5    1  \n",
       "2      9.8        5    1  \n",
       "3      9.8        6    1  \n",
       "5      9.4        5    1  "
      ]
     },
     "execution_count": 2,
     "metadata": {},
     "output_type": "execute_result"
    }
   ],
   "source": [
    "df = w.wrangle()\n",
    "df.head()"
   ]
  },
  {
   "cell_type": "markdown",
   "id": "5166b034",
   "metadata": {},
   "source": [
    "- Split the data\n",
    "- Scale\n",
    "- Create clusters\n",
    "- Encode clusters"
   ]
  },
  {
   "cell_type": "code",
   "execution_count": 3,
   "id": "3829b168",
   "metadata": {},
   "outputs": [],
   "source": [
    "def preprecess_data(df):\n",
    "    \n",
    "    # split data\n",
    "    train, validate, test = split_data(df)\n",
    "    \n",
    "    # MinMax scale features\n",
    "    scaler = MinMaxScaler()\n",
    "    \n",
    "    train = pd.concat([pd.DataFrame(data=scaler.fit_transform(train.drop(columns=['quality'])),\n",
    "                                   columns=train.drop(columns=['quality']).columns),\n",
    "                      train[['quality']].reset_index().iloc[:,1]],\n",
    "                      axis=1)\n",
    "    validate = pd.concat([pd.DataFrame(data=scaler.transform(validate.drop(columns=['quality'])),\n",
    "                                       columns=validate.drop(columns=['quality']).columns),\n",
    "                             validate[['quality']].reset_index().iloc[:,1]],\n",
    "                             axis=1)\n",
    "\n",
    "    test = pd.concat([pd.DataFrame(data=scaler.transform(test.drop(columns=['quality'])),\n",
    "                                       columns=test.drop(columns=['quality']).columns),\n",
    "                         test[['quality']].reset_index().iloc[:,1]],\n",
    "                         axis=1)\n",
    "    \n",
    "    # create 1st group of clusters\n",
    "    feats1 = ['fixed acidity', 'chlorides', 'alcohol']\n",
    "\n",
    "    kmeans1 = KMeans(n_clusters=4, random_state=123).fit(train[feats1])\n",
    "\n",
    "    train['clusters_1'] = kmeans1.predict(train[feats1])\n",
    "    validate['clusters_1'] = kmeans1.predict(validate[feats1])\n",
    "    test['clusters_1'] = kmeans1.predict(test[feats1])\n",
    "\n",
    "    # create 2nd group of clusters\n",
    "    feats2 = ['fixed acidity', 'alcohol']\n",
    "\n",
    "    kmeans2 = KMeans(n_clusters=4, random_state=123).fit(train[feats2])\n",
    "\n",
    "    train['clusters_2'] = kmeans2.predict(train[feats2])\n",
    "    validate['clusters_2'] = kmeans2.predict(validate[feats2])\n",
    "    test['clusters_2'] = kmeans2.predict(test[feats2])\n",
    "    \n",
    "    # create 3rd group of clusters\n",
    "    feats3 = ['free sulfur dioxide', 'residual sugar', 'alcohol']\n",
    "\n",
    "    kmeans3 = KMeans(n_clusters=4, random_state=123).fit(train[feats3])\n",
    "\n",
    "    train['clusters_3'] = kmeans3.predict(train[feats3])\n",
    "    validate['clusters_3'] = kmeans3.predict(validate[feats3])\n",
    "    test['clusters_3'] = kmeans3.predict(test[feats3])\n",
    "    \n",
    "    # encode clusters\n",
    "    train = pd.concat([train, \n",
    "                        pd.get_dummies(train[['clusters_1','clusters_2','clusters_3']].astype(str))],\n",
    "                        axis=1)\n",
    "    validate = pd.concat([validate, \n",
    "                            pd.get_dummies(validate[['clusters_1','clusters_2','clusters_3']].astype(str))],\n",
    "                            axis=1)\n",
    "    test = pd.concat([test, \n",
    "                        pd.get_dummies(test[['clusters_1','clusters_2','clusters_3']].astype(str))],\n",
    "                        axis=1)\n",
    "    \n",
    "    return train, validate, test"
   ]
  },
  {
   "cell_type": "code",
   "execution_count": 4,
   "id": "d17f44fb",
   "metadata": {},
   "outputs": [
    {
     "name": "stderr",
     "output_type": "stream",
     "text": [
      "/usr/local/anaconda3/lib/python3.10/site-packages/sklearn/cluster/_kmeans.py:870: FutureWarning: The default value of `n_init` will change from 10 to 'auto' in 1.4. Set the value of `n_init` explicitly to suppress the warning\n",
      "  warnings.warn(\n",
      "/usr/local/anaconda3/lib/python3.10/site-packages/sklearn/cluster/_kmeans.py:870: FutureWarning: The default value of `n_init` will change from 10 to 'auto' in 1.4. Set the value of `n_init` explicitly to suppress the warning\n",
      "  warnings.warn(\n",
      "/usr/local/anaconda3/lib/python3.10/site-packages/sklearn/cluster/_kmeans.py:870: FutureWarning: The default value of `n_init` will change from 10 to 'auto' in 1.4. Set the value of `n_init` explicitly to suppress the warning\n",
      "  warnings.warn(\n"
     ]
    }
   ],
   "source": [
    "train, validate, test = preprecess_data(df)"
   ]
  },
  {
   "cell_type": "markdown",
   "id": "c6f2025c",
   "metadata": {},
   "source": [
    "## Modeling before Clustering"
   ]
  },
  {
   "cell_type": "markdown",
   "id": "36787a66",
   "metadata": {},
   "source": [
    "**Baseline Model**"
   ]
  },
  {
   "cell_type": "code",
   "execution_count": 5,
   "id": "932f0259",
   "metadata": {},
   "outputs": [],
   "source": [
    "def run_baseline_model(train, test, features, target):\n",
    "    \n",
    "    # split X and y\n",
    "    X_train = train[features]\n",
    "    X_test = test[features]\n",
    "\n",
    "    y_train = train[target]\n",
    "    y_test = test[target]\n",
    "    \n",
    "    # run model\n",
    "    dummy = DummyRegressor().fit(X_train, y_train)    \n",
    "    \n",
    "    # RMSE\n",
    "    train_rmse = mean_squared_error(y_train, dummy.predict(X_train), squared=False)\n",
    "    test_rmse = mean_squared_error(y_test, dummy.predict(X_test), squared=False)\n",
    "    # R2\n",
    "    train_r2 = r2_score(y_train, dummy.predict(X_train))\n",
    "    test_r2 = r2_score(y_test, dummy.predict(X_test))\n",
    "    \n",
    "    print(f'Train:\\tRMSE = {train_rmse}\\tR2 = {train_r2}')\n",
    "    print(f'Test:\\tRMSE = {test_rmse}\\tR2 = {test_r2}')\n",
    "    \n",
    "    return train_rmse, train_r2, test_rmse, test_r2"
   ]
  },
  {
   "cell_type": "code",
   "execution_count": 6,
   "id": "e2a51452",
   "metadata": {},
   "outputs": [
    {
     "name": "stdout",
     "output_type": "stream",
     "text": [
      "Train:\tRMSE = 0.877247065526987\tR2 = 0.0\n",
      "Test:\tRMSE = 0.8709556563730244\tR2 = -0.004223135332819483\n"
     ]
    },
    {
     "data": {
      "text/plain": [
       "(0.877247065526987, 0.0, 0.8709556563730244, -0.004223135332819483)"
      ]
     },
     "execution_count": 6,
     "metadata": {},
     "output_type": "execute_result"
    }
   ],
   "source": [
    "run_baseline_model(train, validate,\n",
    "                   features=['alcohol', 'volatile acidity', 'chlorides'], target=['quality'])"
   ]
  },
  {
   "cell_type": "markdown",
   "id": "bc3f593f",
   "metadata": {},
   "source": [
    "**Linear Regression Model**"
   ]
  },
  {
   "cell_type": "code",
   "execution_count": 7,
   "id": "98516610",
   "metadata": {},
   "outputs": [],
   "source": [
    "def run_linear_model(train, test, features, target):\n",
    "    \n",
    "    # split X and y\n",
    "    X_train = train[features]\n",
    "    X_test = test[features]\n",
    "\n",
    "    y_train = train[target]\n",
    "    y_test = test[target]\n",
    "    \n",
    "    # run model\n",
    "    lm = LinearRegression().fit(X_train, y_train)    \n",
    "    \n",
    "    # RMSE\n",
    "    train_rmse = mean_squared_error(y_train, lm.predict(X_train), squared=False)\n",
    "    test_rmse = mean_squared_error(y_test, lm.predict(X_test), squared=False)\n",
    "    # R2\n",
    "    train_r2 = r2_score(y_train, lm.predict(X_train))\n",
    "    test_r2 = r2_score(y_test, lm.predict(X_test))\n",
    "    \n",
    "    print(f'Train:\\tRMSE = {train_rmse}\\tR2 = {train_r2}')\n",
    "    print(f'Test:\\tRMSE = {test_rmse}\\tR2 = {test_r2}')\n",
    "    \n",
    "    return train_rmse, train_r2, test_rmse, test_r2"
   ]
  },
  {
   "cell_type": "code",
   "execution_count": 8,
   "id": "2817242b",
   "metadata": {},
   "outputs": [
    {
     "name": "stdout",
     "output_type": "stream",
     "text": [
      "Train:\tRMSE = 0.7398947098676343\tR2 = 0.2886292628795276\n",
      "Test:\tRMSE = 0.7464181576392369\tR2 = 0.2624312195350209\n"
     ]
    },
    {
     "data": {
      "text/plain": [
       "(0.7398947098676343,\n",
       " 0.2886292628795276,\n",
       " 0.7464181576392369,\n",
       " 0.2624312195350209)"
      ]
     },
     "execution_count": 8,
     "metadata": {},
     "output_type": "execute_result"
    }
   ],
   "source": [
    "run_linear_model(train, validate,\n",
    "                   features=['alcohol', 'volatile acidity', 'chlorides'], target=['quality'])"
   ]
  },
  {
   "cell_type": "markdown",
   "id": "7b69c392",
   "metadata": {},
   "source": [
    "## Modeling on first group of clusters\n",
    "\n",
    "Cluster 2 in the first group of clusters yields much higher quality. Others have similar mean qualities. So, we will only run cluster 3 to reduce noise"
   ]
  },
  {
   "cell_type": "markdown",
   "id": "d8a9ff80",
   "metadata": {},
   "source": [
    "**Linear Regression Model**"
   ]
  },
  {
   "cell_type": "code",
   "execution_count": 9,
   "id": "6b48b9e6",
   "metadata": {
    "scrolled": true
   },
   "outputs": [
    {
     "name": "stdout",
     "output_type": "stream",
     "text": [
      "Train:\tRMSE = 0.7394488750805455\tR2 = 0.289486299060413\n",
      "Test:\tRMSE = 0.7465946379814651\tR2 = 0.2620824022467747\n"
     ]
    },
    {
     "data": {
      "text/plain": [
       "(0.7394488750805455, 0.289486299060413, 0.7465946379814651, 0.2620824022467747)"
      ]
     },
     "execution_count": 9,
     "metadata": {},
     "output_type": "execute_result"
    }
   ],
   "source": [
    "run_linear_model(train, validate,\n",
    "                 features=['alcohol', 'volatile acidity', 'chlorides','clusters_1_2'],\n",
    "                 target=['quality'])"
   ]
  },
  {
   "cell_type": "markdown",
   "id": "d45a5e1b",
   "metadata": {},
   "source": [
    "## Modeling on second group of clusters\n",
    "\n",
    "Cluster 2 in the second group of clusters yields much higher quality."
   ]
  },
  {
   "cell_type": "markdown",
   "id": "d190e749",
   "metadata": {},
   "source": [
    "**Linear Regression Model**"
   ]
  },
  {
   "cell_type": "code",
   "execution_count": 10,
   "id": "31048f57",
   "metadata": {
    "scrolled": true
   },
   "outputs": [
    {
     "name": "stdout",
     "output_type": "stream",
     "text": [
      "Train:\tRMSE = 0.7394488750805455\tR2 = 0.289486299060413\n",
      "Test:\tRMSE = 0.7465946379814651\tR2 = 0.2620824022467747\n"
     ]
    },
    {
     "data": {
      "text/plain": [
       "(0.7394488750805455, 0.289486299060413, 0.7465946379814651, 0.2620824022467747)"
      ]
     },
     "execution_count": 10,
     "metadata": {},
     "output_type": "execute_result"
    }
   ],
   "source": [
    "run_linear_model(train, validate,\n",
    "                 features=['alcohol', 'volatile acidity', 'chlorides', 'clusters_2_2'],\n",
    "                 target=['quality'])"
   ]
  },
  {
   "cell_type": "markdown",
   "id": "63fdb06a",
   "metadata": {},
   "source": [
    "## Modeling on third group of clusters\n",
    "\n",
    "Cluster 1 in the third group of clusters yields much higher quality."
   ]
  },
  {
   "cell_type": "markdown",
   "id": "645426c8",
   "metadata": {},
   "source": [
    "**Linear Regression Model**"
   ]
  },
  {
   "cell_type": "code",
   "execution_count": 11,
   "id": "aa5f0280",
   "metadata": {
    "scrolled": true
   },
   "outputs": [
    {
     "name": "stdout",
     "output_type": "stream",
     "text": [
      "Train:\tRMSE = 0.7391175409246308\tR2 = 0.29012289402206115\n",
      "Test:\tRMSE = 0.7461053876933185\tR2 = 0.2630492136515725\n"
     ]
    },
    {
     "data": {
      "text/plain": [
       "(0.7391175409246308,\n",
       " 0.29012289402206115,\n",
       " 0.7461053876933185,\n",
       " 0.2630492136515725)"
      ]
     },
     "execution_count": 11,
     "metadata": {},
     "output_type": "execute_result"
    }
   ],
   "source": [
    "run_linear_model(train, validate,\n",
    "                 features=['alcohol', 'volatile acidity', 'chlorides', 'clusters_3_1'],\n",
    "                 target=['quality'])"
   ]
  }
 ],
 "metadata": {
  "kernelspec": {
   "display_name": "Python 3 (ipykernel)",
   "language": "python",
   "name": "python3"
  },
  "language_info": {
   "codemirror_mode": {
    "name": "ipython",
    "version": 3
   },
   "file_extension": ".py",
   "mimetype": "text/x-python",
   "name": "python",
   "nbconvert_exporter": "python",
   "pygments_lexer": "ipython3",
   "version": "3.10.9"
  },
  "varInspector": {
   "cols": {
    "lenName": 16,
    "lenType": 16,
    "lenVar": 40
   },
   "kernels_config": {
    "python": {
     "delete_cmd_postfix": "",
     "delete_cmd_prefix": "del ",
     "library": "var_list.py",
     "varRefreshCmd": "print(var_dic_list())"
    },
    "r": {
     "delete_cmd_postfix": ") ",
     "delete_cmd_prefix": "rm(",
     "library": "var_list.r",
     "varRefreshCmd": "cat(var_dic_list()) "
    }
   },
   "types_to_exclude": [
    "module",
    "function",
    "builtin_function_or_method",
    "instance",
    "_Feature"
   ],
   "window_display": false
  }
 },
 "nbformat": 4,
 "nbformat_minor": 5
}
