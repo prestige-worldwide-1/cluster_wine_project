{
 "cells": [
  {
   "cell_type": "markdown",
   "id": "f18c3760",
   "metadata": {},
   "source": [
    "# Model\n",
    "\n",
    "Plan:\n",
    "\n",
    "- Develop a model to predict property value\n",
    "- Use drivers identified in explore to build predictive regression models\n",
    "- Create and run a baseline model with sklearn's `DummyRegressor` to compare our results to\n",
    "- Create and run `Linear Regression`, `LassoLars`, and Polynomial regression models\n",
    "- Use the insights from the highest-performing model (with highest test RMSE) to confirm our initial hypotheses and insights on the features that are the biggest drivers of property value"
   ]
  },
  {
   "cell_type": "code",
   "execution_count": 64,
   "id": "a4d0d7c3",
   "metadata": {},
   "outputs": [],
   "source": [
    "import pandas as pd\n",
    "import numpy as np\n",
    "\n",
    "from sklearn.preprocessing import PolynomialFeatures\n",
    "\n",
    "from sklearn.dummy import DummyRegressor\n",
    "from sklearn.linear_model import LinearRegression, LassoLars\n",
    "\n",
    "from sklearn.metrics import mean_squared_error, r2_score\n",
    "\n",
    "from sklearn.preprocessing import MinMaxScaler\n",
    "\n",
    "from wrangle import split_data\n"
   ]
  },
  {
   "cell_type": "markdown",
   "id": "b3cb6917",
   "metadata": {},
   "source": [
    "## Preprocessing before Clustering\n",
    "\n",
    "Features: `['alcohol', 'volatile acidity', 'chlorides']`\n",
    "\n",
    "Encode Clusters\n",
    "\n",
    "Scale features:\n",
    "- MinMax\n",
    "\n",
    "Before scaling, split data"
   ]
  },
  {
   "cell_type": "code",
   "execution_count": 65,
   "id": "07e783f5",
   "metadata": {
    "scrolled": true
   },
   "outputs": [
    {
     "data": {
      "text/html": [
       "<div>\n",
       "<style scoped>\n",
       "    .dataframe tbody tr th:only-of-type {\n",
       "        vertical-align: middle;\n",
       "    }\n",
       "\n",
       "    .dataframe tbody tr th {\n",
       "        vertical-align: top;\n",
       "    }\n",
       "\n",
       "    .dataframe thead th {\n",
       "        text-align: right;\n",
       "    }\n",
       "</style>\n",
       "<table border=\"1\" class=\"dataframe\">\n",
       "  <thead>\n",
       "    <tr style=\"text-align: right;\">\n",
       "      <th></th>\n",
       "      <th>fixed acidity</th>\n",
       "      <th>volatile acidity</th>\n",
       "      <th>citric acid</th>\n",
       "      <th>residual sugar</th>\n",
       "      <th>chlorides</th>\n",
       "      <th>free sulfur dioxide</th>\n",
       "      <th>total sulfur dioxide</th>\n",
       "      <th>density</th>\n",
       "      <th>pH</th>\n",
       "      <th>sulphates</th>\n",
       "      <th>alcohol</th>\n",
       "      <th>quality</th>\n",
       "      <th>red</th>\n",
       "      <th>clusters_1</th>\n",
       "      <th>clusters_2</th>\n",
       "      <th>clusters_3</th>\n",
       "    </tr>\n",
       "  </thead>\n",
       "  <tbody>\n",
       "    <tr>\n",
       "      <th>0</th>\n",
       "      <td>7.4</td>\n",
       "      <td>0.70</td>\n",
       "      <td>0.00</td>\n",
       "      <td>1.9</td>\n",
       "      <td>0.076</td>\n",
       "      <td>11.0</td>\n",
       "      <td>34.0</td>\n",
       "      <td>0.9978</td>\n",
       "      <td>3.51</td>\n",
       "      <td>0.56</td>\n",
       "      <td>9.4</td>\n",
       "      <td>5</td>\n",
       "      <td>1</td>\n",
       "      <td>0</td>\n",
       "      <td>1</td>\n",
       "      <td>3</td>\n",
       "    </tr>\n",
       "    <tr>\n",
       "      <th>1</th>\n",
       "      <td>7.8</td>\n",
       "      <td>0.88</td>\n",
       "      <td>0.00</td>\n",
       "      <td>2.6</td>\n",
       "      <td>0.098</td>\n",
       "      <td>25.0</td>\n",
       "      <td>67.0</td>\n",
       "      <td>0.9968</td>\n",
       "      <td>3.20</td>\n",
       "      <td>0.68</td>\n",
       "      <td>9.8</td>\n",
       "      <td>5</td>\n",
       "      <td>1</td>\n",
       "      <td>0</td>\n",
       "      <td>1</td>\n",
       "      <td>3</td>\n",
       "    </tr>\n",
       "    <tr>\n",
       "      <th>2</th>\n",
       "      <td>7.8</td>\n",
       "      <td>0.76</td>\n",
       "      <td>0.04</td>\n",
       "      <td>2.3</td>\n",
       "      <td>0.092</td>\n",
       "      <td>15.0</td>\n",
       "      <td>54.0</td>\n",
       "      <td>0.9970</td>\n",
       "      <td>3.26</td>\n",
       "      <td>0.65</td>\n",
       "      <td>9.8</td>\n",
       "      <td>5</td>\n",
       "      <td>1</td>\n",
       "      <td>0</td>\n",
       "      <td>1</td>\n",
       "      <td>3</td>\n",
       "    </tr>\n",
       "    <tr>\n",
       "      <th>3</th>\n",
       "      <td>11.2</td>\n",
       "      <td>0.28</td>\n",
       "      <td>0.56</td>\n",
       "      <td>1.9</td>\n",
       "      <td>0.075</td>\n",
       "      <td>17.0</td>\n",
       "      <td>60.0</td>\n",
       "      <td>0.9980</td>\n",
       "      <td>3.16</td>\n",
       "      <td>0.58</td>\n",
       "      <td>9.8</td>\n",
       "      <td>6</td>\n",
       "      <td>1</td>\n",
       "      <td>1</td>\n",
       "      <td>3</td>\n",
       "      <td>3</td>\n",
       "    </tr>\n",
       "    <tr>\n",
       "      <th>4</th>\n",
       "      <td>7.4</td>\n",
       "      <td>0.66</td>\n",
       "      <td>0.00</td>\n",
       "      <td>1.8</td>\n",
       "      <td>0.075</td>\n",
       "      <td>13.0</td>\n",
       "      <td>40.0</td>\n",
       "      <td>0.9978</td>\n",
       "      <td>3.51</td>\n",
       "      <td>0.56</td>\n",
       "      <td>9.4</td>\n",
       "      <td>5</td>\n",
       "      <td>1</td>\n",
       "      <td>0</td>\n",
       "      <td>1</td>\n",
       "      <td>3</td>\n",
       "    </tr>\n",
       "  </tbody>\n",
       "</table>\n",
       "</div>"
      ],
      "text/plain": [
       "   fixed acidity  volatile acidity  citric acid  residual sugar  chlorides  \\\n",
       "0            7.4              0.70         0.00             1.9      0.076   \n",
       "1            7.8              0.88         0.00             2.6      0.098   \n",
       "2            7.8              0.76         0.04             2.3      0.092   \n",
       "3           11.2              0.28         0.56             1.9      0.075   \n",
       "4            7.4              0.66         0.00             1.8      0.075   \n",
       "\n",
       "   free sulfur dioxide  total sulfur dioxide  density    pH  sulphates  \\\n",
       "0                 11.0                  34.0   0.9978  3.51       0.56   \n",
       "1                 25.0                  67.0   0.9968  3.20       0.68   \n",
       "2                 15.0                  54.0   0.9970  3.26       0.65   \n",
       "3                 17.0                  60.0   0.9980  3.16       0.58   \n",
       "4                 13.0                  40.0   0.9978  3.51       0.56   \n",
       "\n",
       "   alcohol  quality  red  clusters_1  clusters_2  clusters_3  \n",
       "0      9.4        5    1           0           1           3  \n",
       "1      9.8        5    1           0           1           3  \n",
       "2      9.8        5    1           0           1           3  \n",
       "3      9.8        6    1           1           3           3  \n",
       "4      9.4        5    1           0           1           3  "
      ]
     },
     "execution_count": 65,
     "metadata": {},
     "output_type": "execute_result"
    }
   ],
   "source": [
    "df = pd.read_csv('wine_data_model.csv') \n",
    "df.head()"
   ]
  },
  {
   "cell_type": "markdown",
   "id": "5166b034",
   "metadata": {},
   "source": [
    "Encode Clusters"
   ]
  },
  {
   "cell_type": "code",
   "execution_count": 94,
   "id": "8d0b8147",
   "metadata": {},
   "outputs": [
    {
     "data": {
      "text/html": [
       "<div>\n",
       "<style scoped>\n",
       "    .dataframe tbody tr th:only-of-type {\n",
       "        vertical-align: middle;\n",
       "    }\n",
       "\n",
       "    .dataframe tbody tr th {\n",
       "        vertical-align: top;\n",
       "    }\n",
       "\n",
       "    .dataframe thead th {\n",
       "        text-align: right;\n",
       "    }\n",
       "</style>\n",
       "<table border=\"1\" class=\"dataframe\">\n",
       "  <thead>\n",
       "    <tr style=\"text-align: right;\">\n",
       "      <th></th>\n",
       "      <th>fixed acidity</th>\n",
       "      <th>volatile acidity</th>\n",
       "      <th>citric acid</th>\n",
       "      <th>residual sugar</th>\n",
       "      <th>chlorides</th>\n",
       "      <th>free sulfur dioxide</th>\n",
       "      <th>total sulfur dioxide</th>\n",
       "      <th>density</th>\n",
       "      <th>pH</th>\n",
       "      <th>sulphates</th>\n",
       "      <th>...</th>\n",
       "      <th>clusters_1_2</th>\n",
       "      <th>clusters_1_3</th>\n",
       "      <th>clusters_2_0</th>\n",
       "      <th>clusters_2_1</th>\n",
       "      <th>clusters_2_2</th>\n",
       "      <th>clusters_2_3</th>\n",
       "      <th>clusters_3_0</th>\n",
       "      <th>clusters_3_1</th>\n",
       "      <th>clusters_3_2</th>\n",
       "      <th>clusters_3_3</th>\n",
       "    </tr>\n",
       "  </thead>\n",
       "  <tbody>\n",
       "    <tr>\n",
       "      <th>0</th>\n",
       "      <td>7.4</td>\n",
       "      <td>0.70</td>\n",
       "      <td>0.00</td>\n",
       "      <td>1.9</td>\n",
       "      <td>0.076</td>\n",
       "      <td>11.0</td>\n",
       "      <td>34.0</td>\n",
       "      <td>0.9978</td>\n",
       "      <td>3.51</td>\n",
       "      <td>0.56</td>\n",
       "      <td>...</td>\n",
       "      <td>0</td>\n",
       "      <td>0</td>\n",
       "      <td>0</td>\n",
       "      <td>1</td>\n",
       "      <td>0</td>\n",
       "      <td>0</td>\n",
       "      <td>0</td>\n",
       "      <td>0</td>\n",
       "      <td>0</td>\n",
       "      <td>1</td>\n",
       "    </tr>\n",
       "    <tr>\n",
       "      <th>1</th>\n",
       "      <td>7.8</td>\n",
       "      <td>0.88</td>\n",
       "      <td>0.00</td>\n",
       "      <td>2.6</td>\n",
       "      <td>0.098</td>\n",
       "      <td>25.0</td>\n",
       "      <td>67.0</td>\n",
       "      <td>0.9968</td>\n",
       "      <td>3.20</td>\n",
       "      <td>0.68</td>\n",
       "      <td>...</td>\n",
       "      <td>0</td>\n",
       "      <td>0</td>\n",
       "      <td>0</td>\n",
       "      <td>1</td>\n",
       "      <td>0</td>\n",
       "      <td>0</td>\n",
       "      <td>0</td>\n",
       "      <td>0</td>\n",
       "      <td>0</td>\n",
       "      <td>1</td>\n",
       "    </tr>\n",
       "    <tr>\n",
       "      <th>2</th>\n",
       "      <td>7.8</td>\n",
       "      <td>0.76</td>\n",
       "      <td>0.04</td>\n",
       "      <td>2.3</td>\n",
       "      <td>0.092</td>\n",
       "      <td>15.0</td>\n",
       "      <td>54.0</td>\n",
       "      <td>0.9970</td>\n",
       "      <td>3.26</td>\n",
       "      <td>0.65</td>\n",
       "      <td>...</td>\n",
       "      <td>0</td>\n",
       "      <td>0</td>\n",
       "      <td>0</td>\n",
       "      <td>1</td>\n",
       "      <td>0</td>\n",
       "      <td>0</td>\n",
       "      <td>0</td>\n",
       "      <td>0</td>\n",
       "      <td>0</td>\n",
       "      <td>1</td>\n",
       "    </tr>\n",
       "    <tr>\n",
       "      <th>3</th>\n",
       "      <td>11.2</td>\n",
       "      <td>0.28</td>\n",
       "      <td>0.56</td>\n",
       "      <td>1.9</td>\n",
       "      <td>0.075</td>\n",
       "      <td>17.0</td>\n",
       "      <td>60.0</td>\n",
       "      <td>0.9980</td>\n",
       "      <td>3.16</td>\n",
       "      <td>0.58</td>\n",
       "      <td>...</td>\n",
       "      <td>0</td>\n",
       "      <td>0</td>\n",
       "      <td>0</td>\n",
       "      <td>0</td>\n",
       "      <td>0</td>\n",
       "      <td>1</td>\n",
       "      <td>0</td>\n",
       "      <td>0</td>\n",
       "      <td>0</td>\n",
       "      <td>1</td>\n",
       "    </tr>\n",
       "    <tr>\n",
       "      <th>4</th>\n",
       "      <td>7.4</td>\n",
       "      <td>0.66</td>\n",
       "      <td>0.00</td>\n",
       "      <td>1.8</td>\n",
       "      <td>0.075</td>\n",
       "      <td>13.0</td>\n",
       "      <td>40.0</td>\n",
       "      <td>0.9978</td>\n",
       "      <td>3.51</td>\n",
       "      <td>0.56</td>\n",
       "      <td>...</td>\n",
       "      <td>0</td>\n",
       "      <td>0</td>\n",
       "      <td>0</td>\n",
       "      <td>1</td>\n",
       "      <td>0</td>\n",
       "      <td>0</td>\n",
       "      <td>0</td>\n",
       "      <td>0</td>\n",
       "      <td>0</td>\n",
       "      <td>1</td>\n",
       "    </tr>\n",
       "  </tbody>\n",
       "</table>\n",
       "<p>5 rows × 40 columns</p>\n",
       "</div>"
      ],
      "text/plain": [
       "   fixed acidity  volatile acidity  citric acid  residual sugar  chlorides  \\\n",
       "0            7.4              0.70         0.00             1.9      0.076   \n",
       "1            7.8              0.88         0.00             2.6      0.098   \n",
       "2            7.8              0.76         0.04             2.3      0.092   \n",
       "3           11.2              0.28         0.56             1.9      0.075   \n",
       "4            7.4              0.66         0.00             1.8      0.075   \n",
       "\n",
       "   free sulfur dioxide  total sulfur dioxide  density    pH  sulphates  ...  \\\n",
       "0                 11.0                  34.0   0.9978  3.51       0.56  ...   \n",
       "1                 25.0                  67.0   0.9968  3.20       0.68  ...   \n",
       "2                 15.0                  54.0   0.9970  3.26       0.65  ...   \n",
       "3                 17.0                  60.0   0.9980  3.16       0.58  ...   \n",
       "4                 13.0                  40.0   0.9978  3.51       0.56  ...   \n",
       "\n",
       "   clusters_1_2  clusters_1_3  clusters_2_0  clusters_2_1  clusters_2_2  \\\n",
       "0             0             0             0             1             0   \n",
       "1             0             0             0             1             0   \n",
       "2             0             0             0             1             0   \n",
       "3             0             0             0             0             0   \n",
       "4             0             0             0             1             0   \n",
       "\n",
       "   clusters_2_3  clusters_3_0  clusters_3_1  clusters_3_2  clusters_3_3  \n",
       "0             0             0             0             0             1  \n",
       "1             0             0             0             0             1  \n",
       "2             0             0             0             0             1  \n",
       "3             1             0             0             0             1  \n",
       "4             0             0             0             0             1  \n",
       "\n",
       "[5 rows x 40 columns]"
      ]
     },
     "execution_count": 94,
     "metadata": {},
     "output_type": "execute_result"
    }
   ],
   "source": [
    "df = pd.concat([df, \n",
    "                pd.get_dummies(df[['clusters_1','clusters_2','clusters_3']].astype(str))],\n",
    "                axis=1)\n",
    "df.head()"
   ]
  },
  {
   "cell_type": "markdown",
   "id": "4c79b081",
   "metadata": {},
   "source": [
    "Split data"
   ]
  },
  {
   "cell_type": "code",
   "execution_count": 95,
   "id": "291fedbb",
   "metadata": {},
   "outputs": [],
   "source": [
    "train, validate, test = split_data(df,\n",
    "                                   validate_size=.15, test_size=.15, \n",
    "                                   stratify_col='red', random_state=123)"
   ]
  },
  {
   "cell_type": "markdown",
   "id": "3b463d7c",
   "metadata": {},
   "source": [
    "Scale data"
   ]
  },
  {
   "cell_type": "code",
   "execution_count": 96,
   "id": "ec1f2e3f",
   "metadata": {},
   "outputs": [],
   "source": [
    "scaler = MinMaxScaler()\n",
    "\n",
    "train_sc = pd.concat([pd.DataFrame(data=scaler.fit_transform(train.drop(columns=['quality'])),\n",
    "                                   columns=train.drop(columns=['quality']).columns),\n",
    "                      train[['quality']].reset_index().iloc[:,1]],\n",
    "                      axis=1)\n",
    "\n",
    "validate_sc = pd.concat([pd.DataFrame(data=scaler.transform(validate.drop(columns=['quality'])),\n",
    "                                   columns=validate.drop(columns=['quality']).columns),\n",
    "                         validate[['quality']].reset_index().iloc[:,1]],\n",
    "                         axis=1)\n",
    "\n",
    "test_sc = pd.concat([pd.DataFrame(data=scaler.transform(test.drop(columns=['quality'])),\n",
    "                                   columns=test.drop(columns=['quality']).columns),\n",
    "                     test[['quality']].reset_index().iloc[:,1]],\n",
    "                     axis=1)"
   ]
  },
  {
   "cell_type": "markdown",
   "id": "c6f2025c",
   "metadata": {},
   "source": [
    "## Modeling before Clustering"
   ]
  },
  {
   "cell_type": "code",
   "execution_count": 98,
   "id": "127712b2",
   "metadata": {},
   "outputs": [],
   "source": [
    "features = ['alcohol', 'volatile acidity', 'chlorides']\n",
    "target = ['quality']"
   ]
  },
  {
   "cell_type": "code",
   "execution_count": 70,
   "id": "cf588fc4",
   "metadata": {},
   "outputs": [],
   "source": [
    "# pick features\n",
    "X_train = train_sc[features]\n",
    "X_validate = validate_sc[features]\n",
    "X_test = test_sc[features]\n",
    "\n",
    "# only add target\n",
    "y_train = train_sc[target]\n",
    "y_vaildate = validate_sc[target]\n",
    "y_test = test_sc[target]"
   ]
  },
  {
   "cell_type": "markdown",
   "id": "36787a66",
   "metadata": {},
   "source": [
    "**Baseline Model**"
   ]
  },
  {
   "cell_type": "code",
   "execution_count": 71,
   "id": "36319ab0",
   "metadata": {},
   "outputs": [],
   "source": [
    "dummy = DummyRegressor().fit(X_train, y_train)"
   ]
  },
  {
   "cell_type": "markdown",
   "id": "905c7d78",
   "metadata": {},
   "source": [
    "Evaluate"
   ]
  },
  {
   "cell_type": "code",
   "execution_count": 74,
   "id": "3810b5a5",
   "metadata": {},
   "outputs": [
    {
     "data": {
      "text/plain": [
       "0.8813204007103415"
      ]
     },
     "execution_count": 74,
     "metadata": {},
     "output_type": "execute_result"
    }
   ],
   "source": [
    "# RMSE\n",
    "mean_squared_error(y_train, dummy.predict(X_train),\n",
    "                   squared=False)"
   ]
  },
  {
   "cell_type": "code",
   "execution_count": 75,
   "id": "b2c9d316",
   "metadata": {},
   "outputs": [
    {
     "data": {
      "text/plain": [
       "0.0"
      ]
     },
     "execution_count": 75,
     "metadata": {},
     "output_type": "execute_result"
    }
   ],
   "source": [
    "# R2\n",
    "r2_score(y_train, dummy.predict(X_train))"
   ]
  },
  {
   "cell_type": "markdown",
   "id": "bc3f593f",
   "metadata": {},
   "source": [
    "**Linear Regression Model**"
   ]
  },
  {
   "cell_type": "code",
   "execution_count": 76,
   "id": "98516610",
   "metadata": {},
   "outputs": [],
   "source": [
    "def run_lm_model(X, y):\n",
    "    \n",
    "    # run model\n",
    "    lm = LinearRegression().fit(X, y)\n",
    "    \n",
    "    # RMSE\n",
    "    rmse = mean_squared_error(y, lm.predict(X), squared=False)\n",
    "    # R2\n",
    "    r2 = r2_score(y, lm.predict(X))\n",
    "    \n",
    "    \n",
    "    print(f'RMSE = {rmse}\\nR2 = {r2}')\n",
    "    \n",
    "    return rmse, r2"
   ]
  },
  {
   "cell_type": "code",
   "execution_count": 77,
   "id": "3947c7e4",
   "metadata": {
    "scrolled": true
   },
   "outputs": [
    {
     "name": "stdout",
     "output_type": "stream",
     "text": [
      "RMSE = 0.7453522878997778\n",
      "R2 = 0.2847538458381518\n"
     ]
    },
    {
     "data": {
      "text/plain": [
       "(0.7453522878997778, 0.2847538458381518)"
      ]
     },
     "execution_count": 77,
     "metadata": {},
     "output_type": "execute_result"
    }
   ],
   "source": [
    "run_lm_model(X_train, y_train)"
   ]
  },
  {
   "cell_type": "code",
   "execution_count": 78,
   "id": "5d7b322f",
   "metadata": {},
   "outputs": [
    {
     "name": "stdout",
     "output_type": "stream",
     "text": [
      "RMSE = 0.7438028614227141\n",
      "R2 = 0.28949845982961275\n"
     ]
    },
    {
     "data": {
      "text/plain": [
       "(0.7438028614227141, 0.28949845982961275)"
      ]
     },
     "execution_count": 78,
     "metadata": {},
     "output_type": "execute_result"
    }
   ],
   "source": [
    "run_lm_model(X_validate, y_vaildate)"
   ]
  },
  {
   "cell_type": "markdown",
   "id": "7b69c392",
   "metadata": {},
   "source": [
    "## Modeling on first group of clusters"
   ]
  },
  {
   "cell_type": "code",
   "execution_count": 79,
   "id": "27557c95",
   "metadata": {},
   "outputs": [],
   "source": [
    "features = ['alcohol', 'volatile acidity', 'chlorides', 'clusters_1_0', \n",
    "            'clusters_1_1', 'clusters_1_2', 'clusters_1_3']\n",
    "target = ['quality']"
   ]
  },
  {
   "cell_type": "code",
   "execution_count": 80,
   "id": "28a7d946",
   "metadata": {},
   "outputs": [],
   "source": [
    "# pick features\n",
    "X_train = train_sc[features]\n",
    "X_validate = validate_sc[features]\n",
    "X_test = test_sc[features]\n",
    "\n",
    "# only add target\n",
    "y_train = train_sc[target]\n",
    "y_vaildate = validate_sc[target]\n",
    "y_test = test_sc[target]"
   ]
  },
  {
   "cell_type": "markdown",
   "id": "d8a9ff80",
   "metadata": {},
   "source": [
    "**Linear Regression Model**"
   ]
  },
  {
   "cell_type": "code",
   "execution_count": 81,
   "id": "6b48b9e6",
   "metadata": {
    "scrolled": true
   },
   "outputs": [
    {
     "name": "stdout",
     "output_type": "stream",
     "text": [
      "RMSE = 0.7440900098919532\n",
      "R2 = 0.28717437908506205\n"
     ]
    },
    {
     "data": {
      "text/plain": [
       "(0.7440900098919532, 0.28717437908506205)"
      ]
     },
     "execution_count": 81,
     "metadata": {},
     "output_type": "execute_result"
    }
   ],
   "source": [
    "run_lm_model(X_train, y_train)"
   ]
  },
  {
   "cell_type": "code",
   "execution_count": 82,
   "id": "234ad381",
   "metadata": {},
   "outputs": [
    {
     "name": "stdout",
     "output_type": "stream",
     "text": [
      "RMSE = 0.7412573376185873\n",
      "R2 = 0.2943532510241843\n"
     ]
    },
    {
     "data": {
      "text/plain": [
       "(0.7412573376185873, 0.2943532510241843)"
      ]
     },
     "execution_count": 82,
     "metadata": {},
     "output_type": "execute_result"
    }
   ],
   "source": [
    "run_lm_model(X_validate, y_vaildate)"
   ]
  },
  {
   "cell_type": "markdown",
   "id": "d45a5e1b",
   "metadata": {},
   "source": [
    "## Modeling on second group of clusters"
   ]
  },
  {
   "cell_type": "code",
   "execution_count": 83,
   "id": "4e19ffd7",
   "metadata": {},
   "outputs": [],
   "source": [
    "features = ['alcohol', 'volatile acidity', 'chlorides', 'clusters_2_0', \n",
    "            'clusters_2_1', 'clusters_2_2', 'clusters_2_3']\n",
    "target = ['quality']"
   ]
  },
  {
   "cell_type": "code",
   "execution_count": 84,
   "id": "909c86ee",
   "metadata": {},
   "outputs": [],
   "source": [
    "# pick features\n",
    "X_train = train_sc[features]\n",
    "X_validate = validate_sc[features]\n",
    "X_test = test_sc[features]\n",
    "\n",
    "# only add target\n",
    "y_train = train_sc[target]\n",
    "y_vaildate = validate_sc[target]\n",
    "y_test = test_sc[target]"
   ]
  },
  {
   "cell_type": "markdown",
   "id": "d190e749",
   "metadata": {},
   "source": [
    "**Linear Regression Model**"
   ]
  },
  {
   "cell_type": "code",
   "execution_count": 85,
   "id": "e6a45f48",
   "metadata": {
    "scrolled": true
   },
   "outputs": [
    {
     "name": "stdout",
     "output_type": "stream",
     "text": [
      "RMSE = 0.7440498929526359\n",
      "R2 = 0.28725123970924427\n"
     ]
    },
    {
     "data": {
      "text/plain": [
       "(0.7440498929526359, 0.28725123970924427)"
      ]
     },
     "execution_count": 85,
     "metadata": {},
     "output_type": "execute_result"
    }
   ],
   "source": [
    "run_lm_model(X_train, y_train)"
   ]
  },
  {
   "cell_type": "code",
   "execution_count": 86,
   "id": "c6517abe",
   "metadata": {},
   "outputs": [
    {
     "name": "stdout",
     "output_type": "stream",
     "text": [
      "RMSE = 0.7419938569885327\n",
      "R2 = 0.29295028157527736\n"
     ]
    },
    {
     "data": {
      "text/plain": [
       "(0.7419938569885327, 0.29295028157527736)"
      ]
     },
     "execution_count": 86,
     "metadata": {},
     "output_type": "execute_result"
    }
   ],
   "source": [
    "run_lm_model(X_validate, y_vaildate)"
   ]
  },
  {
   "cell_type": "markdown",
   "id": "63fdb06a",
   "metadata": {},
   "source": [
    "## Modeling on third group of clusters"
   ]
  },
  {
   "cell_type": "code",
   "execution_count": 87,
   "id": "5762b447",
   "metadata": {},
   "outputs": [],
   "source": [
    "features = ['alcohol', 'volatile acidity', 'chlorides', 'clusters_3_0', \n",
    "            'clusters_3_1', 'clusters_3_2', 'clusters_3_3']\n",
    "target = ['quality']"
   ]
  },
  {
   "cell_type": "code",
   "execution_count": 88,
   "id": "ac0edb7a",
   "metadata": {},
   "outputs": [],
   "source": [
    "# pick features\n",
    "X_train = train_sc[features]\n",
    "X_validate = validate_sc[features]\n",
    "X_test = test_sc[features]\n",
    "\n",
    "# only add target\n",
    "y_train = train_sc[target]\n",
    "y_vaildate = validate_sc[target]\n",
    "y_test = test_sc[target]"
   ]
  },
  {
   "cell_type": "markdown",
   "id": "645426c8",
   "metadata": {},
   "source": [
    "**Linear Regression Model**"
   ]
  },
  {
   "cell_type": "code",
   "execution_count": 89,
   "id": "9a2290af",
   "metadata": {
    "scrolled": true
   },
   "outputs": [
    {
     "name": "stdout",
     "output_type": "stream",
     "text": [
      "RMSE = 0.7443081897965984\n",
      "R2 = 0.2867562924957725\n"
     ]
    },
    {
     "data": {
      "text/plain": [
       "(0.7443081897965984, 0.2867562924957725)"
      ]
     },
     "execution_count": 89,
     "metadata": {},
     "output_type": "execute_result"
    }
   ],
   "source": [
    "run_lm_model(X_train, y_train)"
   ]
  },
  {
   "cell_type": "code",
   "execution_count": 90,
   "id": "1ee209d0",
   "metadata": {},
   "outputs": [
    {
     "name": "stdout",
     "output_type": "stream",
     "text": [
      "RMSE = 0.7419954346029419\n",
      "R2 = 0.2929472749384997\n"
     ]
    },
    {
     "data": {
      "text/plain": [
       "(0.7419954346029419, 0.2929472749384997)"
      ]
     },
     "execution_count": 90,
     "metadata": {},
     "output_type": "execute_result"
    }
   ],
   "source": [
    "run_lm_model(X_validate, y_vaildate)"
   ]
  }
 ],
 "metadata": {
  "kernelspec": {
   "display_name": "Python 3 (ipykernel)",
   "language": "python",
   "name": "python3"
  },
  "language_info": {
   "codemirror_mode": {
    "name": "ipython",
    "version": 3
   },
   "file_extension": ".py",
   "mimetype": "text/x-python",
   "name": "python",
   "nbconvert_exporter": "python",
   "pygments_lexer": "ipython3",
   "version": "3.10.9"
  },
  "varInspector": {
   "cols": {
    "lenName": 16,
    "lenType": 16,
    "lenVar": 40
   },
   "kernels_config": {
    "python": {
     "delete_cmd_postfix": "",
     "delete_cmd_prefix": "del ",
     "library": "var_list.py",
     "varRefreshCmd": "print(var_dic_list())"
    },
    "r": {
     "delete_cmd_postfix": ") ",
     "delete_cmd_prefix": "rm(",
     "library": "var_list.r",
     "varRefreshCmd": "cat(var_dic_list()) "
    }
   },
   "types_to_exclude": [
    "module",
    "function",
    "builtin_function_or_method",
    "instance",
    "_Feature"
   ],
   "window_display": false
  }
 },
 "nbformat": 4,
 "nbformat_minor": 5
}
